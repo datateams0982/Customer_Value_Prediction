{
 "cells": [
  {
   "cell_type": "code",
   "execution_count": 1,
   "metadata": {},
   "outputs": [],
   "source": [
    "import pandas as pd\n",
    "import numpy as np\n",
    "from multiprocessing import Pool\n",
    "from functools import partial\n",
    "from tqdm import tqdm_notebook as tqdm\n",
    "from datetime import date, timedelta\n",
    "import pickle\n",
    "import Model_func as func"
   ]
  },
  {
   "cell_type": "code",
   "execution_count": 2,
   "metadata": {},
   "outputs": [],
   "source": [
    "import tensorflow as tf\n",
    "from tensorflow.keras.preprocessing.sequence import pad_sequences\n",
    "from tensorflow.keras.preprocessing.text import Tokenizer\n",
    "from tensorflow.keras.layers import Dense, Input, LSTM, Embedding, Dropout, Activation, Flatten, TimeDistributed, LeakyReLU, Conv2D, concatenate, BatchNormalization, MaxPooling2D, AveragePooling1D, Reshape\n",
    "from tensorflow.keras.models import Model, Sequential, load_model\n",
    "from tensorflow.keras import layers, optimizers\n",
    "from tensorflow.keras.callbacks import EarlyStopping\n",
    "from tensorflow.keras.regularizers import l2\n",
    "import tensorflow.keras.backend as K"
   ]
  },
  {
   "cell_type": "code",
   "execution_count": 60,
   "metadata": {
    "scrolled": true
   },
   "outputs": [],
   "source": [
    "model = load_model(r'D:\\Customer_Value\\model\\residual.h5')"
   ]
  },
  {
   "cell_type": "code",
   "execution_count": 70,
   "metadata": {},
   "outputs": [
    {
     "name": "stdout",
     "output_type": "stream",
     "text": [
      "Model: \"model_1\"\n",
      "__________________________________________________________________________________________________\n",
      "Layer (type)                    Output Shape         Param #     Connected to                     \n",
      "==================================================================================================\n",
      "input_4 (InputLayer)            [(None, 2, 120, 11)] 0                                            \n",
      "__________________________________________________________________________________________________\n",
      "input_5 (InputLayer)            [(None, 3, 120, 21)] 0                                            \n",
      "__________________________________________________________________________________________________\n",
      "conv2d_4 (Conv2D)               (None, 1, 120, 1)    23          input_4[0][0]                    \n",
      "__________________________________________________________________________________________________\n",
      "conv2d_6 (Conv2D)               (None, 1, 120, 1)    64          input_5[0][0]                    \n",
      "__________________________________________________________________________________________________\n",
      "conv2d_5 (Conv2D)               (None, 1, 111, 1)    11          conv2d_4[0][0]                   \n",
      "__________________________________________________________________________________________________\n",
      "conv2d_7 (Conv2D)               (None, 1, 111, 1)    11          conv2d_6[0][0]                   \n",
      "__________________________________________________________________________________________________\n",
      "flatten_2 (Flatten)             (None, 111)          0           conv2d_5[0][0]                   \n",
      "__________________________________________________________________________________________________\n",
      "flatten_3 (Flatten)             (None, 111)          0           conv2d_7[0][0]                   \n",
      "__________________________________________________________________________________________________\n",
      "input_6 (InputLayer)            [(None, 2)]          0                                            \n",
      "__________________________________________________________________________________________________\n",
      "concatenate_1 (Concatenate)     (None, 224)          0           flatten_2[0][0]                  \n",
      "                                                                 flatten_3[0][0]                  \n",
      "                                                                 input_6[0][0]                    \n",
      "__________________________________________________________________________________________________\n",
      "dense_4 (Dense)                 (None, 128)          28800       concatenate_1[0][0]              \n",
      "__________________________________________________________________________________________________\n",
      "dense_5 (Dense)                 (None, 32)           4128        dense_4[0][0]                    \n",
      "__________________________________________________________________________________________________\n",
      "dense_6 (Dense)                 (None, 8)            264         dense_5[0][0]                    \n",
      "__________________________________________________________________________________________________\n",
      "dense_7 (Dense)                 (None, 2)            18          dense_6[0][0]                    \n",
      "==================================================================================================\n",
      "Total params: 33,319\n",
      "Trainable params: 33,319\n",
      "Non-trainable params: 0\n",
      "__________________________________________________________________________________________________\n"
     ]
    }
   ],
   "source": [
    "model.summary()"
   ]
  },
  {
   "cell_type": "code",
   "execution_count": 4,
   "metadata": {},
   "outputs": [],
   "source": [
    "with open(r'D:\\Customer_Value\\data\\evaluate\\local\\evaluate_large', 'rb') as fp:\n",
    "    eval_test = pickle.load(fp)"
   ]
  },
  {
   "cell_type": "code",
   "execution_count": 6,
   "metadata": {},
   "outputs": [],
   "source": [
    "eval_test_trade = np.array([[data[i].values.tolist() for i in range(2)] for data in eval_test])\n",
    "# eval_test_asset = np.array([[data[i].values.tolist() for i in range(2, 5)] for data in eval_test])\n",
    "# eval_test_demo = np.array([data[5] for data in eval_test])\n",
    "# information = [data[6] for data in eval_test]"
   ]
  },
  {
   "cell_type": "code",
   "execution_count": 7,
   "metadata": {},
   "outputs": [],
   "source": [
    "df = func.concat_original_df([eval_test_trade, eval_test_asset, eval_test_demo], information, r'D:\\Customer_Value\\data\\evaluate\\st_sample_all_large.csv', model)"
   ]
  },
  {
   "cell_type": "code",
   "execution_count": 8,
   "metadata": {},
   "outputs": [],
   "source": [
    "f_p = func.false_positive(df)"
   ]
  },
  {
   "cell_type": "code",
   "execution_count": 9,
   "metadata": {},
   "outputs": [],
   "source": [
    "f_p[['AMT_B_label', 'AMT_S_label', 'ST_ASSET_label', 'MP_ASSET_label', 'SS_ASSET_label', 'TRADE']] = f_p[['AMT_B_label', 'AMT_S_label', 'ST_ASSET_label', 'MP_ASSET_label', 'SS_ASSET_label', 'TRADE']].astype(int)\n",
    "f_p = pd.get_dummies(f_p, columns=['AMT_B_label', 'AMT_S_label', 'ST_ASSET_label', 'MP_ASSET_label', 'SS_ASSET_label', 'TRADE'], prefix=['AMT_B', 'AMT_S', 'ST_ASSET', 'MP_ASSET', 'SS_ASSET', 'TRADE'])\n",
    "for i in range(1, 11):\n",
    "    for col in ['ST_ASSET', 'MP_ASSET', 'SS_ASSET']:\n",
    "        if f'{col}_{-1 * i}' not in f_p.columns:\n",
    "            f_p[f'{col}_{-1 * i}'] = 0\n"
   ]
  },
  {
   "cell_type": "code",
   "execution_count": 11,
   "metadata": {},
   "outputs": [
    {
     "data": {
      "text/plain": [
       "25404.0"
      ]
     },
     "execution_count": 11,
     "metadata": {},
     "output_type": "execute_result"
    }
   ],
   "source": [
    "len(fp)/120"
   ]
  },
  {
   "cell_type": "code",
   "execution_count": 10,
   "metadata": {},
   "outputs": [
    {
     "data": {
      "application/vnd.jupyter.widget-view+json": {
       "model_id": "68f1a19af465441981aa4be68a14f582",
       "version_major": 2,
       "version_minor": 0
      },
      "text/plain": [
       "HBox(children=(IntProgress(value=0, max=25404), HTML(value='')))"
      ]
     },
     "metadata": {},
     "output_type": "display_data"
    },
    {
     "name": "stdout",
     "output_type": "stream",
     "text": [
      "\n"
     ]
    }
   ],
   "source": [
    "df_list = [group[1] for group in f_p.groupby(f_p['sample_no'])]\n",
    "train = []\n",
    "val = []\n",
    "test = []\n",
    "\n",
    "if __name__ == '__main__':\n",
    "    with Pool(processes=12) as pool:\n",
    "        for i, x in enumerate(tqdm(pool.imap_unordered(partial(func.transfer_data, train_date='2018-11-01', val_date='2019-01-01'), df_list), total=len(df_list)), 1):\n",
    "            if x[8] == 'train':\n",
    "                train.append(x[:8])\n",
    "            elif x[8] == 'val':\n",
    "                val.append(x[:8])\n",
    "            else:\n",
    "                test.append(x[:8])"
   ]
  },
  {
   "cell_type": "code",
   "execution_count": 11,
   "metadata": {},
   "outputs": [],
   "source": [
    "with open(r'D:\\Customer_Value\\data\\train_residual\\train_fp_v2', 'wb') as fp:\n",
    "    pickle.dump(train, fp)\n",
    "with open(r'D:\\Customer_Value\\data\\train_residual\\val_fp_v2', 'wb') as fp:\n",
    "    pickle.dump(val, fp)\n",
    "with open(r'D:\\Customer_Value\\data\\train_residual\\test_fp_v2', 'wb') as fp:\n",
    "    pickle.dump(test, fp)"
   ]
  },
  {
   "cell_type": "code",
   "execution_count": 12,
   "metadata": {},
   "outputs": [],
   "source": [
    "del eval_test\n",
    "del eval_test_trade\n",
    "del eval_test_asset\n",
    "del df"
   ]
  },
  {
   "cell_type": "code",
   "execution_count": 13,
   "metadata": {},
   "outputs": [],
   "source": [
    "with open(r'D:\\Customer_Value\\data\\train_local\\train_v1', 'rb') as fp:\n",
    "    train_o = pickle.load(fp)\n",
    "with open(r'D:\\Customer_Value\\data\\train_local\\val_v1', 'rb') as fp:\n",
    "    val_o = pickle.load(fp)\n",
    "with open(r'D:\\Customer_Value\\data\\train_local\\test_v1', 'rb') as fp:\n",
    "    test_o = pickle.load(fp)"
   ]
  },
  {
   "cell_type": "code",
   "execution_count": 86,
   "metadata": {},
   "outputs": [
    {
     "ename": "KeyboardInterrupt",
     "evalue": "",
     "output_type": "error",
     "traceback": [
      "\u001b[1;31m---------------------------------------------------------------------------\u001b[0m",
      "\u001b[1;31mKeyboardInterrupt\u001b[0m                         Traceback (most recent call last)",
      "\u001b[1;32m<ipython-input-86-f0f033d245cd>\u001b[0m in \u001b[0;36m<module>\u001b[1;34m\u001b[0m\n\u001b[0;32m      1\u001b[0m \u001b[1;32mwith\u001b[0m \u001b[0mopen\u001b[0m\u001b[1;33m(\u001b[0m\u001b[1;34mr'D:\\Customer_Value\\data\\train_residual\\train_fp'\u001b[0m\u001b[1;33m,\u001b[0m \u001b[1;34m'rb'\u001b[0m\u001b[1;33m)\u001b[0m \u001b[1;32mas\u001b[0m \u001b[0mfp\u001b[0m\u001b[1;33m:\u001b[0m\u001b[1;33m\u001b[0m\u001b[1;33m\u001b[0m\u001b[0m\n\u001b[1;32m----> 2\u001b[1;33m     \u001b[0mtrain_fp\u001b[0m \u001b[1;33m=\u001b[0m \u001b[0mpickle\u001b[0m\u001b[1;33m.\u001b[0m\u001b[0mload\u001b[0m\u001b[1;33m(\u001b[0m\u001b[0mfp\u001b[0m\u001b[1;33m)\u001b[0m\u001b[1;33m\u001b[0m\u001b[1;33m\u001b[0m\u001b[0m\n\u001b[0m\u001b[0;32m      3\u001b[0m \u001b[1;32mwith\u001b[0m \u001b[0mopen\u001b[0m\u001b[1;33m(\u001b[0m\u001b[1;34mr'D:\\Customer_Value\\data\\train_residual\\val_fp'\u001b[0m\u001b[1;33m,\u001b[0m \u001b[1;34m'rb'\u001b[0m\u001b[1;33m)\u001b[0m \u001b[1;32mas\u001b[0m \u001b[0mfp\u001b[0m\u001b[1;33m:\u001b[0m\u001b[1;33m\u001b[0m\u001b[1;33m\u001b[0m\u001b[0m\n\u001b[0;32m      4\u001b[0m     \u001b[0mval_fp\u001b[0m \u001b[1;33m=\u001b[0m \u001b[0mpickle\u001b[0m\u001b[1;33m.\u001b[0m\u001b[0mload\u001b[0m\u001b[1;33m(\u001b[0m\u001b[0mfp\u001b[0m\u001b[1;33m)\u001b[0m\u001b[1;33m\u001b[0m\u001b[1;33m\u001b[0m\u001b[0m\n\u001b[0;32m      5\u001b[0m \u001b[1;32mwith\u001b[0m \u001b[0mopen\u001b[0m\u001b[1;33m(\u001b[0m\u001b[1;34mr'D:\\Customer_Value\\data\\train_residual\\test_fp'\u001b[0m\u001b[1;33m,\u001b[0m \u001b[1;34m'rb'\u001b[0m\u001b[1;33m)\u001b[0m \u001b[1;32mas\u001b[0m \u001b[0mfp\u001b[0m\u001b[1;33m:\u001b[0m\u001b[1;33m\u001b[0m\u001b[1;33m\u001b[0m\u001b[0m\n",
      "\u001b[1;32m~\\AppData\\Local\\Continuum\\anaconda3\\envs\\tf-gpu\\lib\\site-packages\\pandas\\core\\indexes\\base.py\u001b[0m in \u001b[0;36m_new_Index\u001b[1;34m(cls, d)\u001b[0m\n\u001b[0;32m    170\u001b[0m \u001b[1;33m\u001b[0m\u001b[0m\n\u001b[0;32m    171\u001b[0m \u001b[1;33m\u001b[0m\u001b[0m\n\u001b[1;32m--> 172\u001b[1;33m \u001b[1;32mdef\u001b[0m \u001b[0m_new_Index\u001b[0m\u001b[1;33m(\u001b[0m\u001b[0mcls\u001b[0m\u001b[1;33m,\u001b[0m \u001b[0md\u001b[0m\u001b[1;33m)\u001b[0m\u001b[1;33m:\u001b[0m\u001b[1;33m\u001b[0m\u001b[1;33m\u001b[0m\u001b[0m\n\u001b[0m\u001b[0;32m    173\u001b[0m     \"\"\"\n\u001b[0;32m    174\u001b[0m     \u001b[0mThis\u001b[0m \u001b[1;32mis\u001b[0m \u001b[0mcalled\u001b[0m \u001b[0mupon\u001b[0m \u001b[0munpickling\u001b[0m\u001b[1;33m,\u001b[0m \u001b[0mrather\u001b[0m \u001b[0mthan\u001b[0m \u001b[0mthe\u001b[0m \u001b[0mdefault\u001b[0m \u001b[0mwhich\u001b[0m \u001b[0mdoesn\u001b[0m\u001b[0;31m'\u001b[0m\u001b[0mt\u001b[0m\u001b[1;33m\u001b[0m\u001b[1;33m\u001b[0m\u001b[0m\n",
      "\u001b[1;31mKeyboardInterrupt\u001b[0m: "
     ]
    }
   ],
   "source": [
    "with open(r'D:\\Customer_Value\\data\\train_residual\\train_fp', 'rb') as fp:\n",
    "    train_fp = pickle.load(fp)\n",
    "with open(r'D:\\Customer_Value\\data\\train_residual\\val_fp', 'rb') as fp:\n",
    "    val_fp = pickle.load(fp)\n",
    "with open(r'D:\\Customer_Value\\data\\train_residual\\test_fp', 'rb') as fp:\n",
    "    test_fp = pickle.load(fp)"
   ]
  },
  {
   "cell_type": "code",
   "execution_count": 14,
   "metadata": {},
   "outputs": [],
   "source": [
    "train_o = train_o + val_o + test_o"
   ]
  },
  {
   "cell_type": "code",
   "execution_count": 15,
   "metadata": {},
   "outputs": [],
   "source": [
    "train_trade = np.array([[data[i].values.tolist() for i in range(2)] for data in train_o])\n",
    "train_asset = np.array([[data[i].values.tolist() for i in range(2, 5)] for data in train_o])\n",
    "train_demo = np.array([data[5] for data in train_o])\n",
    "information = [data[6] for data in train_o]"
   ]
  },
  {
   "cell_type": "code",
   "execution_count": 16,
   "metadata": {},
   "outputs": [],
   "source": [
    "origin_df = func.concat_original_df([train_trade, train_asset, train_demo], information, r'D:\\Customer_Value\\data\\sample\\st_sample_all.csv', model)"
   ]
  },
  {
   "cell_type": "code",
   "execution_count": 17,
   "metadata": {},
   "outputs": [],
   "source": [
    "del train_trade, train_asset, train_o"
   ]
  },
  {
   "cell_type": "code",
   "execution_count": 18,
   "metadata": {},
   "outputs": [],
   "source": [
    "fp_small, fn, churn, active = func.subset_df(origin_df)"
   ]
  },
  {
   "cell_type": "code",
   "execution_count": 19,
   "metadata": {},
   "outputs": [],
   "source": [
    "churn = churn[churn.first_stage_1_score >= 0.5]"
   ]
  },
  {
   "cell_type": "code",
   "execution_count": 20,
   "metadata": {},
   "outputs": [
    {
     "data": {
      "text/html": [
       "<div>\n",
       "<style scoped>\n",
       "    .dataframe tbody tr th:only-of-type {\n",
       "        vertical-align: middle;\n",
       "    }\n",
       "\n",
       "    .dataframe tbody tr th {\n",
       "        vertical-align: top;\n",
       "    }\n",
       "\n",
       "    .dataframe thead th {\n",
       "        text-align: right;\n",
       "    }\n",
       "</style>\n",
       "<table border=\"1\" class=\"dataframe\">\n",
       "  <thead>\n",
       "    <tr style=\"text-align: right;\">\n",
       "      <th></th>\n",
       "      <th>first_stage_0_score</th>\n",
       "      <th>first_stage_1_score</th>\n",
       "      <th>sample_no</th>\n",
       "      <th>MTH_DATE</th>\n",
       "      <th>S_IDNO</th>\n",
       "      <th>GENDER</th>\n",
       "      <th>AGE</th>\n",
       "      <th>AMT_B</th>\n",
       "      <th>AMT_S</th>\n",
       "      <th>BIRTH_ADDRESS</th>\n",
       "      <th>...</th>\n",
       "      <th>frequency_annual</th>\n",
       "      <th>amount_annual</th>\n",
       "      <th>YEAR</th>\n",
       "      <th>sampled</th>\n",
       "      <th>ST_ASSET</th>\n",
       "      <th>MP_ASSET</th>\n",
       "      <th>SS_ASSET</th>\n",
       "      <th>ST_ASSET_label</th>\n",
       "      <th>MP_ASSET_label</th>\n",
       "      <th>SS_ASSET_label</th>\n",
       "    </tr>\n",
       "  </thead>\n",
       "  <tbody>\n",
       "    <tr>\n",
       "      <td>0</td>\n",
       "      <td>0.0676</td>\n",
       "      <td>0.9324</td>\n",
       "      <td>A100106875_0</td>\n",
       "      <td>2017-04-10</td>\n",
       "      <td>A100106875</td>\n",
       "      <td>M</td>\n",
       "      <td>67.0</td>\n",
       "      <td>1894000.0</td>\n",
       "      <td>2395500.0</td>\n",
       "      <td>新北市板橋區福星里１５鄰忠孝路１０２號５樓</td>\n",
       "      <td>...</td>\n",
       "      <td>50.0</td>\n",
       "      <td>131808600.0</td>\n",
       "      <td>2017</td>\n",
       "      <td>N</td>\n",
       "      <td>0.0</td>\n",
       "      <td>756000.0</td>\n",
       "      <td>0.0</td>\n",
       "      <td>0</td>\n",
       "      <td>8</td>\n",
       "      <td>0</td>\n",
       "    </tr>\n",
       "    <tr>\n",
       "      <td>1</td>\n",
       "      <td>0.0676</td>\n",
       "      <td>0.9324</td>\n",
       "      <td>A100106875_0</td>\n",
       "      <td>2017-04-11</td>\n",
       "      <td>A100106875</td>\n",
       "      <td>M</td>\n",
       "      <td>67.0</td>\n",
       "      <td>0.0</td>\n",
       "      <td>0.0</td>\n",
       "      <td>新北市板橋區福星里１５鄰忠孝路１０２號５樓</td>\n",
       "      <td>...</td>\n",
       "      <td>50.0</td>\n",
       "      <td>131808600.0</td>\n",
       "      <td>2017</td>\n",
       "      <td>N</td>\n",
       "      <td>0.0</td>\n",
       "      <td>738000.0</td>\n",
       "      <td>0.0</td>\n",
       "      <td>0</td>\n",
       "      <td>8</td>\n",
       "      <td>0</td>\n",
       "    </tr>\n",
       "    <tr>\n",
       "      <td>2</td>\n",
       "      <td>0.0676</td>\n",
       "      <td>0.9324</td>\n",
       "      <td>A100106875_0</td>\n",
       "      <td>2017-04-12</td>\n",
       "      <td>A100106875</td>\n",
       "      <td>M</td>\n",
       "      <td>67.0</td>\n",
       "      <td>0.0</td>\n",
       "      <td>0.0</td>\n",
       "      <td>新北市板橋區福星里１５鄰忠孝路１０２號５樓</td>\n",
       "      <td>...</td>\n",
       "      <td>50.0</td>\n",
       "      <td>131808600.0</td>\n",
       "      <td>2017</td>\n",
       "      <td>N</td>\n",
       "      <td>0.0</td>\n",
       "      <td>706000.0</td>\n",
       "      <td>0.0</td>\n",
       "      <td>0</td>\n",
       "      <td>8</td>\n",
       "      <td>0</td>\n",
       "    </tr>\n",
       "    <tr>\n",
       "      <td>3</td>\n",
       "      <td>0.0676</td>\n",
       "      <td>0.9324</td>\n",
       "      <td>A100106875_0</td>\n",
       "      <td>2017-04-13</td>\n",
       "      <td>A100106875</td>\n",
       "      <td>M</td>\n",
       "      <td>67.0</td>\n",
       "      <td>0.0</td>\n",
       "      <td>0.0</td>\n",
       "      <td>新北市板橋區福星里１５鄰忠孝路１０２號５樓</td>\n",
       "      <td>...</td>\n",
       "      <td>50.0</td>\n",
       "      <td>130788600.0</td>\n",
       "      <td>2017</td>\n",
       "      <td>N</td>\n",
       "      <td>0.0</td>\n",
       "      <td>710000.0</td>\n",
       "      <td>0.0</td>\n",
       "      <td>0</td>\n",
       "      <td>8</td>\n",
       "      <td>0</td>\n",
       "    </tr>\n",
       "    <tr>\n",
       "      <td>4</td>\n",
       "      <td>0.0676</td>\n",
       "      <td>0.9324</td>\n",
       "      <td>A100106875_0</td>\n",
       "      <td>2017-04-14</td>\n",
       "      <td>A100106875</td>\n",
       "      <td>M</td>\n",
       "      <td>67.0</td>\n",
       "      <td>0.0</td>\n",
       "      <td>0.0</td>\n",
       "      <td>新北市板橋區福星里１５鄰忠孝路１０２號５樓</td>\n",
       "      <td>...</td>\n",
       "      <td>50.0</td>\n",
       "      <td>130788600.0</td>\n",
       "      <td>2017</td>\n",
       "      <td>N</td>\n",
       "      <td>0.0</td>\n",
       "      <td>710000.0</td>\n",
       "      <td>0.0</td>\n",
       "      <td>0</td>\n",
       "      <td>8</td>\n",
       "      <td>0</td>\n",
       "    </tr>\n",
       "  </tbody>\n",
       "</table>\n",
       "<p>5 rows × 27 columns</p>\n",
       "</div>"
      ],
      "text/plain": [
       "   first_stage_0_score  first_stage_1_score     sample_no    MTH_DATE  \\\n",
       "0               0.0676               0.9324  A100106875_0  2017-04-10   \n",
       "1               0.0676               0.9324  A100106875_0  2017-04-11   \n",
       "2               0.0676               0.9324  A100106875_0  2017-04-12   \n",
       "3               0.0676               0.9324  A100106875_0  2017-04-13   \n",
       "4               0.0676               0.9324  A100106875_0  2017-04-14   \n",
       "\n",
       "       S_IDNO GENDER   AGE      AMT_B      AMT_S  \\\n",
       "0  A100106875      M  67.0  1894000.0  2395500.0   \n",
       "1  A100106875      M  67.0        0.0        0.0   \n",
       "2  A100106875      M  67.0        0.0        0.0   \n",
       "3  A100106875      M  67.0        0.0        0.0   \n",
       "4  A100106875      M  67.0        0.0        0.0   \n",
       "\n",
       "                    BIRTH_ADDRESS  ... frequency_annual amount_annual  YEAR  \\\n",
       "0  新北市板橋區福星里１５鄰忠孝路１０２號５樓　　　　　　　　　  ...             50.0   131808600.0  2017   \n",
       "1  新北市板橋區福星里１５鄰忠孝路１０２號５樓　　　　　　　　　  ...             50.0   131808600.0  2017   \n",
       "2  新北市板橋區福星里１５鄰忠孝路１０２號５樓　　　　　　　　　  ...             50.0   131808600.0  2017   \n",
       "3  新北市板橋區福星里１５鄰忠孝路１０２號５樓　　　　　　　　　  ...             50.0   130788600.0  2017   \n",
       "4  新北市板橋區福星里１５鄰忠孝路１０２號５樓　　　　　　　　　  ...             50.0   130788600.0  2017   \n",
       "\n",
       "   sampled  ST_ASSET  MP_ASSET  SS_ASSET  ST_ASSET_label  MP_ASSET_label  \\\n",
       "0        N       0.0  756000.0       0.0               0               8   \n",
       "1        N       0.0  738000.0       0.0               0               8   \n",
       "2        N       0.0  706000.0       0.0               0               8   \n",
       "3        N       0.0  710000.0       0.0               0               8   \n",
       "4        N       0.0  710000.0       0.0               0               8   \n",
       "\n",
       "   SS_ASSET_label  \n",
       "0               0  \n",
       "1               0  \n",
       "2               0  \n",
       "3               0  \n",
       "4               0  \n",
       "\n",
       "[5 rows x 27 columns]"
      ]
     },
     "execution_count": 20,
     "metadata": {},
     "output_type": "execute_result"
    }
   ],
   "source": [
    "churn.head()"
   ]
  },
  {
   "cell_type": "code",
   "execution_count": 21,
   "metadata": {},
   "outputs": [],
   "source": [
    "churn[['AMT_B_label', 'AMT_S_label', 'ST_ASSET_label', 'MP_ASSET_label', 'SS_ASSET_label', 'TRADE']] = churn[['AMT_B_label', 'AMT_S_label', 'ST_ASSET_label', 'MP_ASSET_label', 'SS_ASSET_label', 'TRADE']].astype(int)\n",
    "churn = pd.get_dummies(churn, columns=['AMT_B_label', 'AMT_S_label', 'ST_ASSET_label', 'MP_ASSET_label', 'SS_ASSET_label', 'TRADE'], prefix=['AMT_B', 'AMT_S', 'ST_ASSET', 'MP_ASSET', 'SS_ASSET', 'TRADE'])\n",
    "for i in range(1, 11):\n",
    "    for col in ['ST_ASSET', 'MP_ASSET', 'SS_ASSET']:\n",
    "        if f'{col}_{-1 * i}' not in churn.columns:\n",
    "            churn[f'{col}_{-1 * i}'] = 0\n"
   ]
  },
  {
   "cell_type": "code",
   "execution_count": 22,
   "metadata": {},
   "outputs": [
    {
     "data": {
      "application/vnd.jupyter.widget-view+json": {
       "model_id": "cdf2cc0cdfd04ab38c6288ea19841d6a",
       "version_major": 2,
       "version_minor": 0
      },
      "text/plain": [
       "HBox(children=(IntProgress(value=0, max=19003), HTML(value='')))"
      ]
     },
     "metadata": {},
     "output_type": "display_data"
    },
    {
     "name": "stdout",
     "output_type": "stream",
     "text": [
      "\n"
     ]
    }
   ],
   "source": [
    "df_list = [group[1] for group in churn.groupby(churn['sample_no'])]\n",
    "train_churn = []\n",
    "val_churn = []\n",
    "test_churn = []\n",
    "\n",
    "if __name__ == '__main__':\n",
    "    with Pool(processes=12) as pool:\n",
    "        for i, x in enumerate(tqdm(pool.imap_unordered(partial(func.transfer_data, train_date='2018-11-01', val_date='2019-01-01'), df_list), total=len(df_list)), 1):\n",
    "            if x[8] == 'train':\n",
    "                train_churn.append(x[:8])\n",
    "            elif x[8] == 'val':\n",
    "                val_churn.append(x[:8])\n",
    "            else:\n",
    "                test_churn.append(x[:8])"
   ]
  },
  {
   "cell_type": "code",
   "execution_count": 23,
   "metadata": {},
   "outputs": [],
   "source": [
    "train = train + train_churn\n",
    "val = val + val_churn\n",
    "test = test + test_churn"
   ]
  },
  {
   "cell_type": "code",
   "execution_count": 24,
   "metadata": {},
   "outputs": [],
   "source": [
    "with open(r'D:\\Customer_Value\\data\\train_residual\\train_v3', 'wb') as fp:\n",
    "    pickle.dump(train, fp)\n",
    "with open(r'D:\\Customer_Value\\data\\train_residual\\val_v3', 'wb') as fp:\n",
    "    pickle.dump(val, fp)\n",
    "with open(r'D:\\Customer_Value\\data\\train_residual\\test_v3', 'wb') as fp:\n",
    "    pickle.dump(test, fp)"
   ]
  },
  {
   "cell_type": "code",
   "execution_count": 73,
   "metadata": {},
   "outputs": [],
   "source": [
    "with open(r'D:\\Customer_Value\\data\\train_residual\\train_v2', 'rb') as fp:\n",
    "    train = pickle.load(fp)\n",
    "with open(r'D:\\Customer_Value\\data\\train_residual\\val_v2', 'rb') as fp:\n",
    "    val = pickle.load(fp)\n",
    "with open(r'D:\\Customer_Value\\data\\train_residual\\test_v2', 'rb') as fp:\n",
    "    test = pickle.load(fp)"
   ]
  },
  {
   "cell_type": "code",
   "execution_count": 74,
   "metadata": {},
   "outputs": [],
   "source": [
    "train_trade = np.array([[data[i].values.tolist() for i in range(2)] for data in train])\n",
    "train_asset = np.array([[data[i].values.tolist() for i in range(2, 5)] for data in train])\n",
    "train_demo = np.array([data[5] for data in train])\n",
    "label_train = [data[7] for data in train]\n",
    "Y_train = pd.DataFrame(label_train, columns=['label'])\n",
    "Y_train = pd.get_dummies(Y_train, columns=['label'])\n",
    "Y_train = Y_train.values"
   ]
  },
  {
   "cell_type": "code",
   "execution_count": 75,
   "metadata": {},
   "outputs": [],
   "source": [
    "val_trade = np.array([[data[i].values.tolist() for i in range(2)] for data in val])\n",
    "val_asset = np.array([[data[i].values.tolist() for i in range(2, 5)] for data in val])\n",
    "val_demo = np.array([data[5] for data in val])\n",
    "label_val = [data[7] for data in val]\n",
    "Y_val = pd.DataFrame(label_val, columns=['label'])\n",
    "Y_val = pd.get_dummies(Y_val, columns=['label'])\n",
    "Y_val = Y_val.values"
   ]
  },
  {
   "cell_type": "code",
   "execution_count": 76,
   "metadata": {},
   "outputs": [],
   "source": [
    "test_trade = np.array([[data[i].values.tolist() for i in range(2)] for data in test])\n",
    "test_asset = np.array([[data[i].values.tolist() for i in range(2, 5)] for data in test])\n",
    "test_demo = np.array([data[5] for data in test])\n",
    "label_test = [data[7] for data in test]\n",
    "Y_test = pd.DataFrame(label_test, columns=['label'])\n",
    "Y_test = pd.get_dummies(Y_test, columns=['label'])\n",
    "Y_test = Y_test.values"
   ]
  },
  {
   "cell_type": "code",
   "execution_count": 70,
   "metadata": {},
   "outputs": [],
   "source": [
    "for item in train_demo:\n",
    "    item = item[:4]"
   ]
  },
  {
   "cell_type": "code",
   "execution_count": 72,
   "metadata": {},
   "outputs": [
    {
     "data": {
      "text/plain": [
       "array([ 1.        , 74.        ,  0.34367546,  0.65632451,  0.08333333])"
      ]
     },
     "execution_count": 72,
     "metadata": {},
     "output_type": "execute_result"
    }
   ],
   "source": [
    "train_demo[0]"
   ]
  },
  {
   "cell_type": "code",
   "execution_count": 63,
   "metadata": {},
   "outputs": [],
   "source": [
    "for i, item in enumerate(val_demo):\n",
    "    item = item[:-1]\n",
    "for i, item in enumerate(test_demo):\n",
    "    item = item[:-1]"
   ]
  },
  {
   "cell_type": "code",
   "execution_count": 40,
   "metadata": {},
   "outputs": [],
   "source": [
    "class_weight = {0: 1.,\n",
    "                1: 1.5}"
   ]
  },
  {
   "cell_type": "code",
   "execution_count": 41,
   "metadata": {},
   "outputs": [
    {
     "name": "stdout",
     "output_type": "stream",
     "text": [
      "Train on 41347 samples, validate on 1956 samples\n",
      "Epoch 1/20\n",
      "41347/41347 - 32s - loss: 0.7410 - auc_2: 0.7153 - val_loss: 0.5476 - val_auc_2: 0.7984\n",
      "Epoch 2/20\n",
      "41347/41347 - 32s - loss: 0.6976 - auc_2: 0.7645 - val_loss: 0.5444 - val_auc_2: 0.8025\n",
      "Epoch 3/20\n",
      "41347/41347 - 32s - loss: 0.6932 - auc_2: 0.7689 - val_loss: 0.5468 - val_auc_2: 0.8115\n",
      "Epoch 4/20\n",
      "41347/41347 - 32s - loss: 0.6893 - auc_2: 0.7728 - val_loss: 0.5341 - val_auc_2: 0.8130\n",
      "Epoch 5/20\n",
      "41347/41347 - 32s - loss: 0.6867 - auc_2: 0.7748 - val_loss: 0.5312 - val_auc_2: 0.8135\n",
      "Epoch 6/20\n",
      "41347/41347 - 32s - loss: 0.6842 - auc_2: 0.7764 - val_loss: 0.5549 - val_auc_2: 0.7930\n",
      "Epoch 7/20\n",
      "41347/41347 - 32s - loss: 0.6821 - auc_2: 0.7785 - val_loss: 0.5772 - val_auc_2: 0.7650\n",
      "Epoch 8/20\n",
      "41347/41347 - 32s - loss: 0.6809 - auc_2: 0.7800 - val_loss: 0.5362 - val_auc_2: 0.8139\n",
      "Epoch 9/20\n",
      "41347/41347 - 32s - loss: 0.6788 - auc_2: 0.7815 - val_loss: 0.5631 - val_auc_2: 0.7875\n",
      "Epoch 10/20\n",
      "41347/41347 - 32s - loss: 0.6784 - auc_2: 0.7814 - val_loss: 0.5334 - val_auc_2: 0.8125\n",
      "Epoch 11/20\n",
      "41347/41347 - 32s - loss: 0.6764 - auc_2: 0.7830 - val_loss: 0.5579 - val_auc_2: 0.7888\n",
      "Epoch 12/20\n",
      "41347/41347 - 32s - loss: 0.6749 - auc_2: 0.7845 - val_loss: 0.5376 - val_auc_2: 0.8151\n",
      "Epoch 13/20\n",
      "41347/41347 - 32s - loss: 0.6727 - auc_2: 0.7859 - val_loss: 0.5524 - val_auc_2: 0.8006\n",
      "Epoch 14/20\n",
      "41347/41347 - 32s - loss: 0.6706 - auc_2: 0.7875 - val_loss: 0.5431 - val_auc_2: 0.8064\n",
      "Epoch 15/20\n",
      "41347/41347 - 32s - loss: 0.6687 - auc_2: 0.7885 - val_loss: 0.5362 - val_auc_2: 0.8137\n",
      "Epoch 16/20\n",
      "41347/41347 - 32s - loss: 0.6660 - auc_2: 0.7912 - val_loss: 0.5527 - val_auc_2: 0.7983\n",
      "Epoch 17/20\n",
      "41347/41347 - 32s - loss: 0.6631 - auc_2: 0.7929 - val_loss: 0.5474 - val_auc_2: 0.8069\n",
      "Epoch 18/20\n",
      "41347/41347 - 32s - loss: 0.6607 - auc_2: 0.7947 - val_loss: 0.5618 - val_auc_2: 0.7932\n",
      "Epoch 19/20\n",
      "41347/41347 - 32s - loss: 0.6571 - auc_2: 0.7969 - val_loss: 0.5465 - val_auc_2: 0.8052\n",
      "Epoch 20/20\n",
      "41347/41347 - 32s - loss: 0.6541 - auc_2: 0.7997 - val_loss: 0.5542 - val_auc_2: 0.8059\n"
     ]
    },
    {
     "data": {
      "text/plain": [
       "<tensorflow.python.keras.callbacks.History at 0x1c718094e48>"
      ]
     },
     "execution_count": 41,
     "metadata": {},
     "output_type": "execute_result"
    }
   ],
   "source": [
    "input_trade = Input(train_trade.shape[1:])\n",
    "trade_model = Conv2D(filters=1, \n",
    "              strides=1, \n",
    "              padding='valid', \n",
    "              activation='relu',\n",
    "              kernel_size=(1, 11),\n",
    "              data_format='channels_first')(input_trade)\n",
    "trade_model = Conv2D(filters=1, \n",
    "              strides=1, \n",
    "              padding='valid', \n",
    "              activation='relu',\n",
    "              kernel_size=(10, 1),\n",
    "              data_format='channels_first')(trade_model)\n",
    "trade_model = Conv2D(filters=1, \n",
    "              strides=1, \n",
    "              padding='valid', \n",
    "              activation='relu',\n",
    "              kernel_size=(10, 1),\n",
    "              data_format='channels_first')(trade_model)\n",
    "trade_model = Flatten()(trade_model)\n",
    "input_asset = Input(train_asset.shape[1:])\n",
    "asset_model = Conv2D(filters=1, \n",
    "              strides=1, \n",
    "              padding='valid', \n",
    "              activation='relu',\n",
    "              kernel_size=(1, 21),\n",
    "              data_format='channels_first')(input_asset)\n",
    "asset_model = Conv2D(filters=1, \n",
    "              strides=1, \n",
    "              padding='valid', \n",
    "              activation='relu',\n",
    "              kernel_size=(10, 1),\n",
    "              data_format='channels_first')(asset_model)\n",
    "asset_model = Conv2D(filters=1, \n",
    "              strides=1, \n",
    "              padding='valid', \n",
    "              activation='relu',\n",
    "              kernel_size=(10, 1),\n",
    "              data_format='channels_first')(asset_model)\n",
    "asset_model = Flatten()(asset_model)\n",
    "input_demographic = Input(train_demo.shape[1:])\n",
    "combinedInput = concatenate([trade_model, asset_model, input_demographic])\n",
    "full_model = Dense(128, activation='relu')(combinedInput)\n",
    "full_model = Dense(32, activation='relu')(full_model)\n",
    "full_model = Dense(8, activation='relu')(full_model)\n",
    "full_model = Dense(2, activation='softmax')(full_model)\n",
    "model = Model([input_trade, input_asset, input_demographic], full_model)\n",
    "opt = optimizers.Nadam(lr=0.001)\n",
    "model.compile(loss='categorical_crossentropy', optimizer=opt, metrics=[tf.keras.metrics.AUC()])\n",
    "model.fit([train_trade, train_asset, train_demo], Y_train, validation_data=([val_trade, val_asset, val_demo], Y_val), batch_size=8, epochs=20, verbose=2, class_weight=class_weight)"
   ]
  },
  {
   "cell_type": "code",
   "execution_count": 78,
   "metadata": {},
   "outputs": [
    {
     "name": "stdout",
     "output_type": "stream",
     "text": [
      "0.6521739130434783\n",
      "              precision    recall  f1-score   support\n",
      "\n",
      "      ACTIVE       0.81      0.49      0.61       617\n",
      "       CHURN       0.57      0.85      0.68       487\n",
      "\n",
      "    accuracy                           0.65      1104\n",
      "   macro avg       0.69      0.67      0.65      1104\n",
      "weighted avg       0.70      0.65      0.64      1104\n",
      "\n"
     ]
    }
   ],
   "source": [
    "result = func.Evaluation([test_trade, test_asset, test_demo], label_test, threshold=0.5, model=model)\n",
    "print(result[0])\n",
    "print(result[1])"
   ]
  },
  {
   "cell_type": "code",
   "execution_count": 44,
   "metadata": {},
   "outputs": [],
   "source": [
    "residual = train + val + test\n",
    "information = [data[6] for data in residual]\n",
    "residual_trade = np.array([[data[i].values.tolist() for i in range(2)] for data in residual])\n",
    "residual_asset = np.array([[data[i].values.tolist() for i in range(2, 5)] for data in residual])\n",
    "residual_demo = np.array([data[5] for data in residual])"
   ]
  },
  {
   "cell_type": "code",
   "execution_count": 45,
   "metadata": {},
   "outputs": [],
   "source": [
    "prediction = model.predict([residual_trade, residual_asset, residual_demo], batch_size=128)\n",
    "d = pd.DataFrame(prediction, columns=['Y_0_score', 'Y_1_score'])"
   ]
  },
  {
   "cell_type": "code",
   "execution_count": 46,
   "metadata": {},
   "outputs": [],
   "source": [
    "d['sample_no'] = information"
   ]
  },
  {
   "cell_type": "code",
   "execution_count": 47,
   "metadata": {},
   "outputs": [],
   "source": [
    "f_p_list = [group[1] for group in f_p.groupby(f_p['sample_no'])] \n",
    "f_p = pd.concat([df.iloc[-1] for df in f_p_list], axis=1).transpose()"
   ]
  },
  {
   "cell_type": "code",
   "execution_count": 48,
   "metadata": {},
   "outputs": [],
   "source": [
    "churn_list = [group[1] for group in churn.groupby(churn['sample_no'])] \n",
    "churn = pd.concat([df.iloc[-1] for df in churn_list], axis=1).transpose()"
   ]
  },
  {
   "cell_type": "code",
   "execution_count": 49,
   "metadata": {},
   "outputs": [
    {
     "name": "stderr",
     "output_type": "stream",
     "text": [
      "C:\\Users\\011553\\AppData\\Local\\Continuum\\anaconda3\\envs\\tf-gpu\\lib\\site-packages\\ipykernel_launcher.py:1: FutureWarning: Sorting because non-concatenation axis is not aligned. A future version\n",
      "of pandas will change to not sort by default.\n",
      "\n",
      "To accept the future behavior, pass 'sort=False'.\n",
      "\n",
      "To retain the current behavior and silence the warning, pass 'sort=True'.\n",
      "\n",
      "  \"\"\"Entry point for launching an IPython kernel.\n"
     ]
    }
   ],
   "source": [
    "residual_df = pd.concat([f_p, churn], axis=0)"
   ]
  },
  {
   "cell_type": "code",
   "execution_count": 50,
   "metadata": {},
   "outputs": [],
   "source": [
    "df = pd.merge(d, residual_df, on='sample_no', how='inner')"
   ]
  },
  {
   "cell_type": "code",
   "execution_count": 51,
   "metadata": {},
   "outputs": [],
   "source": [
    "df[['first_stage_0_score', 'first_stage_1_score', 'trading_days_amount_120_days', 'trading_days_total_120_days', 'frequency_annual', 'amount_annual', 'ST_ASSET']] = df[['first_stage_0_score', 'first_stage_1_score', 'trading_days_amount_120_days', 'trading_days_total_120_days', 'frequency_annual', 'amount_annual', 'ST_ASSET']].astype(np.float64)"
   ]
  },
  {
   "cell_type": "code",
   "execution_count": 52,
   "metadata": {},
   "outputs": [],
   "source": [
    "def find_false(df, threshold=0.5):\n",
    "    \n",
    "    false_positive = df[(df.LABEL_CHURN == 'ACTIVE') & (df.Y_1_score > threshold)]\n",
    "    false_negative = df[(df.LABEL_CHURN == 'CHURN') & (df.Y_0_score > threshold)]\n",
    "    churn = df[(df.LABEL_CHURN == 'CHURN')]\n",
    "    active = df[(df.LABEL_CHURN == 'ACTIVE')]\n",
    "    \n",
    "    return false_positive, false_negative, churn, active"
   ]
  },
  {
   "cell_type": "code",
   "execution_count": 53,
   "metadata": {},
   "outputs": [],
   "source": [
    "fp, fn, churn, active = find_false(df)"
   ]
  },
  {
   "cell_type": "code",
   "execution_count": 54,
   "metadata": {},
   "outputs": [],
   "source": [
    "import matplotlib.pyplot as plt\n",
    "%matplotlib inline\n",
    "import seaborn as sns"
   ]
  },
  {
   "cell_type": "code",
   "execution_count": 55,
   "metadata": {},
   "outputs": [
    {
     "name": "stderr",
     "output_type": "stream",
     "text": [
      "C:\\Users\\011553\\AppData\\Local\\Continuum\\anaconda3\\envs\\tf-gpu\\lib\\site-packages\\statsmodels\\nonparametric\\kde.py:447: RuntimeWarning: invalid value encountered in greater\n",
      "  X = X[np.logical_and(X > clip[0], X < clip[1])] # won't work for two columns.\n",
      "C:\\Users\\011553\\AppData\\Local\\Continuum\\anaconda3\\envs\\tf-gpu\\lib\\site-packages\\statsmodels\\nonparametric\\kde.py:447: RuntimeWarning: invalid value encountered in less\n",
      "  X = X[np.logical_and(X > clip[0], X < clip[1])] # won't work for two columns.\n"
     ]
    },
    {
     "data": {
      "image/png": "[encoded data removed]",
      "text/plain": [
       "<Figure size 432x288 with 1 Axes>"
      ]
     },
     "metadata": {
      "needs_background": "light"
     },
     "output_type": "display_data"
    }
   ],
   "source": [
    "fig = sns.kdeplot(np.log(fp['amount_annual'].astype(np.float64)), shade=True, legend=False)\n",
    "fig = sns.kdeplot(np.log(fn['amount_annual'].astype(np.float64)), legend=False)\n",
    "fig = sns.kdeplot(np.log(churn['amount_annual'].astype(np.float64)), shade=True, legend=False)\n",
    "fig = sns.kdeplot(np.log(active['amount_annual'].astype(np.float64)), legend=False)\n",
    "fig.legend(labels=['False Positive','False Negative', 'Churn', 'Active'])\n",
    "fig.figure.suptitle(\"Amount_Annual\", fontsize = 12)\n",
    "plt.show()"
   ]
  },
  {
   "cell_type": "code",
   "execution_count": 56,
   "metadata": {},
   "outputs": [
    {
     "data": {
      "image/png": "[encoded data removed]",
      "text/plain": [
       "<Figure size 432x288 with 1 Axes>"
      ]
     },
     "metadata": {
      "needs_background": "light"
     },
     "output_type": "display_data"
    }
   ],
   "source": [
    "fig = sns.kdeplot(np.log(fp['frequency_annual'].astype(np.float64)), shade=True, legend=False)\n",
    "fig = sns.kdeplot(np.log(fn['frequency_annual'].astype(np.float64)), legend=False)\n",
    "fig = sns.kdeplot(np.log(churn['frequency_annual'].astype(np.float64)), shade=True, legend=False)\n",
    "fig = sns.kdeplot(np.log(active['frequency_annual'].astype(np.float64)), legend=False)\n",
    "fig.legend(labels=['False Positive','False Negative', 'Churn', 'Active'])\n",
    "fig.figure.suptitle(\"Frequency_Annual\", fontsize = 12)\n",
    "plt.show()"
   ]
  },
  {
   "cell_type": "code",
   "execution_count": 57,
   "metadata": {},
   "outputs": [
    {
     "data": {
      "image/png": "[encoded data removed]",
      "text/plain": [
       "<Figure size 432x288 with 1 Axes>"
      ]
     },
     "metadata": {
      "needs_background": "light"
     },
     "output_type": "display_data"
    }
   ],
   "source": [
    "fig = sns.kdeplot(np.log(fp['trading_days_total_120_days'].astype(np.float64)), shade=True, legend=False)\n",
    "fig = sns.kdeplot(np.log(fn['trading_days_total_120_days'].astype(np.float64)), legend=False)\n",
    "fig = sns.kdeplot(np.log(churn['trading_days_total_120_days'].astype(np.float64)), shade=True, legend=False)\n",
    "fig = sns.kdeplot(np.log(active['trading_days_total_120_days'].astype(np.float64)), legend=False)\n",
    "fig.legend(labels=['False Positive','False Negative', 'Churn', 'Active'])\n",
    "fig.figure.suptitle(\"Trading Days\", fontsize = 12)\n",
    "plt.show()"
   ]
  },
  {
   "cell_type": "code",
   "execution_count": 58,
   "metadata": {},
   "outputs": [
    {
     "data": {
      "image/png": "[encoded data removed]",
      "text/plain": [
       "<Figure size 432x288 with 1 Axes>"
      ]
     },
     "metadata": {
      "needs_background": "light"
     },
     "output_type": "display_data"
    }
   ],
   "source": [
    "fig = sns.kdeplot(np.log(fp['trading_days_amount_120_days'].astype(np.float64)), shade=True, legend=False)\n",
    "fig = sns.kdeplot(np.log(fn['trading_days_amount_120_days'].astype(np.float64)), legend=False)\n",
    "fig = sns.kdeplot(np.log(churn['trading_days_amount_120_days'].astype(np.float64)), shade=True, legend=False)\n",
    "fig = sns.kdeplot(np.log(active['trading_days_amount_120_days'].astype(np.float64)), legend=False)\n",
    "fig.legend(labels=['False Positive','False Negative', 'Churn', 'Active'])\n",
    "fig.figure.suptitle(\"Trading Amount\", fontsize = 12)\n",
    "plt.show()"
   ]
  },
  {
   "cell_type": "code",
   "execution_count": 59,
   "metadata": {},
   "outputs": [
    {
     "name": "stderr",
     "output_type": "stream",
     "text": [
      "C:\\Users\\011553\\AppData\\Local\\Continuum\\anaconda3\\envs\\tf-gpu\\lib\\site-packages\\pandas\\core\\series.py:853: RuntimeWarning: divide by zero encountered in log\n",
      "  result = getattr(ufunc, method)(*inputs, **kwargs)\n",
      "C:\\Users\\011553\\AppData\\Local\\Continuum\\anaconda3\\envs\\tf-gpu\\lib\\site-packages\\pandas\\core\\series.py:853: RuntimeWarning: invalid value encountered in log\n",
      "  result = getattr(ufunc, method)(*inputs, **kwargs)\n"
     ]
    },
    {
     "data": {
      "image/png": "[encoded data removed]",
      "text/plain": [
       "<Figure size 432x288 with 1 Axes>"
      ]
     },
     "metadata": {
      "needs_background": "light"
     },
     "output_type": "display_data"
    }
   ],
   "source": [
    "fig = sns.kdeplot(np.log(fp['ST_ASSET'].astype(np.float64)), shade=True, legend=False)\n",
    "fig = sns.kdeplot(np.log(fn['ST_ASSET'].astype(np.float64)), legend=False)\n",
    "fig = sns.kdeplot(np.log(churn['ST_ASSET'].astype(np.float64)), shade=True, legend=False)\n",
    "fig = sns.kdeplot(np.log(active['ST_ASSET'].astype(np.float64)), legend=False)\n",
    "fig.legend(labels=['False Positive','False Negative', 'Churn', 'Active'])\n",
    "fig.figure.suptitle(\"Asset\", fontsize = 12)\n",
    "plt.show()"
   ]
  },
  {
   "cell_type": "code",
   "execution_count": 68,
   "metadata": {},
   "outputs": [],
   "source": [
    "model.save(r'D:\\Customer_Value\\model\\residual.h5')"
   ]
  },
  {
   "cell_type": "code",
   "execution_count": null,
   "metadata": {},
   "outputs": [],
   "source": []
  }
 ],
 "metadata": {
  "kernelspec": {
   "display_name": "Python (tf-gpu)",
   "language": "python",
   "name": "tf-gpu"
  },
  "language_info": {
   "codemirror_mode": {
    "name": "ipython",
    "version": 3
   },
   "file_extension": ".py",
   "mimetype": "text/x-python",
   "name": "python",
   "nbconvert_exporter": "python",
   "pygments_lexer": "ipython3",
   "version": "3.6.9"
  }
 },
 "nbformat": 4,
 "nbformat_minor": 2
}
