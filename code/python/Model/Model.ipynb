{
 "cells": [
  {
   "cell_type": "code",
   "execution_count": 1,
   "metadata": {},
   "outputs": [],
   "source": [
    "import pandas as pd\n",
    "import numpy as np\n",
    "from multiprocessing import Pool\n",
    "from functools import partial\n",
    "from tqdm import tqdm_notebook as tqdm\n",
    "from datetime import date, timedelta\n",
    "import pickle\n",
    "import Model_func as func"
   ]
  },
  {
   "cell_type": "code",
   "execution_count": 2,
   "metadata": {
    "scrolled": true
   },
   "outputs": [],
   "source": [
    "import tensorflow as tf\n",
    "from tensorflow.keras.preprocessing.sequence import pad_sequences\n",
    "from tensorflow.keras.preprocessing.text import Tokenizer\n",
    "from tensorflow.keras.layers import Dense, Input, LSTM, Embedding, Dropout, Activation, Flatten, TimeDistributed, LeakyReLU, Conv2D, concatenate, BatchNormalization, MaxPooling2D, AveragePooling1D, Reshape\n",
    "from tensorflow.keras.models import Model, Sequential, load_model\n",
    "from tensorflow.keras import layers, optimizers\n",
    "from tensorflow.keras.callbacks import EarlyStopping\n",
    "from tensorflow.keras.regularizers import l2"
   ]
  },
  {
   "cell_type": "code",
   "execution_count": 3,
   "metadata": {},
   "outputs": [],
   "source": [
    "with open(r'D:\\Customer_Value\\data\\train_local\\train_v1', 'rb') as fp:\n",
    "    train = pickle.load(fp)\n",
    "with open(r'D:\\Customer_Value\\data\\train_local\\val_v1', 'rb') as fp:\n",
    "    val = pickle.load(fp)\n",
    "with open(r'D:\\Customer_Value\\data\\train_local\\test_v1', 'rb') as fp:\n",
    "    test = pickle.load(fp)"
   ]
  },
  {
   "cell_type": "markdown",
   "metadata": {},
   "source": [
    "Transfer Data Form to trainable"
   ]
  },
  {
   "cell_type": "markdown",
   "metadata": {},
   "source": [
    "Model Separating Asset and Trade"
   ]
  },
  {
   "cell_type": "code",
   "execution_count": 4,
   "metadata": {},
   "outputs": [],
   "source": [
    "train_trade = np.array([[data[i].values.tolist() for i in range(2)] for data in train])\n",
    "train_asset = np.array([[data[i].values.tolist() for i in range(2, 5)] for data in train])\n",
    "train_demo = np.array([data[5] for data in train])\n",
    "label_train = [data[7] for data in train]\n",
    "Y_train = pd.DataFrame(label_train, columns=['label'])\n",
    "Y_train = pd.get_dummies(Y_train, columns=['label'])\n",
    "Y_train = Y_train.values"
   ]
  },
  {
   "cell_type": "code",
   "execution_count": 5,
   "metadata": {},
   "outputs": [],
   "source": [
    "val_trade = np.array([[data[i].values.tolist() for i in range(2)] for data in val])\n",
    "val_asset = np.array([[data[i].values.tolist() for i in range(2, 5)] for data in val])\n",
    "val_demo = np.array([data[5] for data in val])\n",
    "label_val = [data[7] for data in val]\n",
    "Y_val = pd.DataFrame(label_val, columns=['label'])\n",
    "Y_val = pd.get_dummies(Y_val, columns=['label'])\n",
    "Y_val = Y_val.values"
   ]
  },
  {
   "cell_type": "code",
   "execution_count": 6,
   "metadata": {},
   "outputs": [],
   "source": [
    "test_trade = np.array([[data[i].values.tolist() for i in range(2)] for data in test])\n",
    "test_asset = np.array([[data[i].values.tolist() for i in range(2, 5)] for data in test])\n",
    "test_demo = np.array([data[5] for data in test])\n",
    "label_test = [data[7] for data in test]\n",
    "Y_test = pd.DataFrame(label_test, columns=['label'])\n",
    "Y_test = pd.get_dummies(Y_test, columns=['label'])\n",
    "Y_test = Y_test.values"
   ]
  },
  {
   "cell_type": "code",
   "execution_count": 28,
   "metadata": {},
   "outputs": [
    {
     "name": "stdout",
     "output_type": "stream",
     "text": [
      "Train on 40655 samples, validate on 1967 samples\n",
      "Epoch 1/10\n",
      "40655/40655 - 25s - loss: 0.4613 - auc_1: 0.8643 - val_loss: 0.4205 - val_auc_1: 0.8889\n",
      "Epoch 2/10\n",
      "40655/40655 - 24s - loss: 0.4189 - auc_1: 0.8900 - val_loss: 0.4148 - val_auc_1: 0.8938\n",
      "Epoch 3/10\n",
      "40655/40655 - 24s - loss: 0.4035 - auc_1: 0.8985 - val_loss: 0.3958 - val_auc_1: 0.9029\n",
      "Epoch 4/10\n",
      "40655/40655 - 24s - loss: 0.3883 - auc_1: 0.9062 - val_loss: 0.4140 - val_auc_1: 0.8986\n",
      "Epoch 5/10\n",
      "40655/40655 - 24s - loss: 0.3727 - auc_1: 0.9139 - val_loss: 0.4082 - val_auc_1: 0.8987\n",
      "Epoch 6/10\n",
      "40655/40655 - 24s - loss: 0.3541 - auc_1: 0.9227 - val_loss: 0.4301 - val_auc_1: 0.8875\n",
      "Epoch 7/10\n",
      "40655/40655 - 24s - loss: 0.3315 - auc_1: 0.9325 - val_loss: 0.4610 - val_auc_1: 0.8817\n",
      "Epoch 8/10\n",
      "40655/40655 - 24s - loss: 0.3090 - auc_1: 0.9414 - val_loss: 0.5053 - val_auc_1: 0.8771\n",
      "Epoch 9/10\n"
     ]
    },
    {
     "ename": "KeyboardInterrupt",
     "evalue": "",
     "output_type": "error",
     "traceback": [
      "\u001b[1;31m---------------------------------------------------------------------------\u001b[0m",
      "\u001b[1;31mKeyboardInterrupt\u001b[0m                         Traceback (most recent call last)",
      "\u001b[1;32m<ipython-input-28-3a5ffc2052ab>\u001b[0m in \u001b[0;36m<module>\u001b[1;34m\u001b[0m\n\u001b[0;32m     36\u001b[0m \u001b[0mopt\u001b[0m \u001b[1;33m=\u001b[0m \u001b[0moptimizers\u001b[0m\u001b[1;33m.\u001b[0m\u001b[0mNadam\u001b[0m\u001b[1;33m(\u001b[0m\u001b[0mlr\u001b[0m\u001b[1;33m=\u001b[0m\u001b[1;36m0.001\u001b[0m\u001b[1;33m)\u001b[0m\u001b[1;33m\u001b[0m\u001b[1;33m\u001b[0m\u001b[0m\n\u001b[0;32m     37\u001b[0m \u001b[0mmodel\u001b[0m\u001b[1;33m.\u001b[0m\u001b[0mcompile\u001b[0m\u001b[1;33m(\u001b[0m\u001b[0mloss\u001b[0m\u001b[1;33m=\u001b[0m\u001b[1;34m'categorical_crossentropy'\u001b[0m\u001b[1;33m,\u001b[0m \u001b[0moptimizer\u001b[0m\u001b[1;33m=\u001b[0m\u001b[0mopt\u001b[0m\u001b[1;33m,\u001b[0m \u001b[0mmetrics\u001b[0m\u001b[1;33m=\u001b[0m\u001b[1;33m[\u001b[0m\u001b[0mtf\u001b[0m\u001b[1;33m.\u001b[0m\u001b[0mkeras\u001b[0m\u001b[1;33m.\u001b[0m\u001b[0mmetrics\u001b[0m\u001b[1;33m.\u001b[0m\u001b[0mAUC\u001b[0m\u001b[1;33m(\u001b[0m\u001b[1;33m)\u001b[0m\u001b[1;33m]\u001b[0m\u001b[1;33m)\u001b[0m\u001b[1;33m\u001b[0m\u001b[1;33m\u001b[0m\u001b[0m\n\u001b[1;32m---> 38\u001b[1;33m \u001b[0mmodel\u001b[0m\u001b[1;33m.\u001b[0m\u001b[0mfit\u001b[0m\u001b[1;33m(\u001b[0m\u001b[1;33m[\u001b[0m\u001b[0mtrain_trade\u001b[0m\u001b[1;33m,\u001b[0m \u001b[0mtrain_asset\u001b[0m\u001b[1;33m,\u001b[0m \u001b[0mtrain_demo\u001b[0m\u001b[1;33m]\u001b[0m\u001b[1;33m,\u001b[0m \u001b[0mY_train\u001b[0m\u001b[1;33m,\u001b[0m \u001b[0mvalidation_data\u001b[0m\u001b[1;33m=\u001b[0m\u001b[1;33m(\u001b[0m\u001b[1;33m[\u001b[0m\u001b[0mval_trade\u001b[0m\u001b[1;33m,\u001b[0m \u001b[0mval_asset\u001b[0m\u001b[1;33m,\u001b[0m \u001b[0mval_demo\u001b[0m\u001b[1;33m]\u001b[0m\u001b[1;33m,\u001b[0m \u001b[0mY_val\u001b[0m\u001b[1;33m)\u001b[0m\u001b[1;33m,\u001b[0m \u001b[0mbatch_size\u001b[0m\u001b[1;33m=\u001b[0m\u001b[1;36m8\u001b[0m\u001b[1;33m,\u001b[0m \u001b[0mepochs\u001b[0m\u001b[1;33m=\u001b[0m\u001b[1;36m10\u001b[0m\u001b[1;33m,\u001b[0m \u001b[0mverbose\u001b[0m\u001b[1;33m=\u001b[0m\u001b[1;36m2\u001b[0m\u001b[1;33m)\u001b[0m\u001b[1;33m\u001b[0m\u001b[1;33m\u001b[0m\u001b[0m\n\u001b[0m",
      "\u001b[1;32m~\\AppData\\Local\\Continuum\\anaconda3\\envs\\tf-gpu\\lib\\site-packages\\tensorflow\\python\\keras\\engine\\training.py\u001b[0m in \u001b[0;36mfit\u001b[1;34m(self, x, y, batch_size, epochs, verbose, callbacks, validation_split, validation_data, shuffle, class_weight, sample_weight, initial_epoch, steps_per_epoch, validation_steps, validation_freq, max_queue_size, workers, use_multiprocessing, **kwargs)\u001b[0m\n\u001b[0;32m    778\u001b[0m           \u001b[0mvalidation_steps\u001b[0m\u001b[1;33m=\u001b[0m\u001b[0mvalidation_steps\u001b[0m\u001b[1;33m,\u001b[0m\u001b[1;33m\u001b[0m\u001b[1;33m\u001b[0m\u001b[0m\n\u001b[0;32m    779\u001b[0m           \u001b[0mvalidation_freq\u001b[0m\u001b[1;33m=\u001b[0m\u001b[0mvalidation_freq\u001b[0m\u001b[1;33m,\u001b[0m\u001b[1;33m\u001b[0m\u001b[1;33m\u001b[0m\u001b[0m\n\u001b[1;32m--> 780\u001b[1;33m           steps_name='steps_per_epoch')\n\u001b[0m\u001b[0;32m    781\u001b[0m \u001b[1;33m\u001b[0m\u001b[0m\n\u001b[0;32m    782\u001b[0m   def evaluate(self,\n",
      "\u001b[1;32m~\\AppData\\Local\\Continuum\\anaconda3\\envs\\tf-gpu\\lib\\site-packages\\tensorflow\\python\\keras\\engine\\training_arrays.py\u001b[0m in \u001b[0;36mmodel_iteration\u001b[1;34m(model, inputs, targets, sample_weights, batch_size, epochs, verbose, callbacks, val_inputs, val_targets, val_sample_weights, shuffle, initial_epoch, steps_per_epoch, validation_steps, validation_freq, mode, validation_in_fit, prepared_feed_values_from_dataset, steps_name, **kwargs)\u001b[0m\n\u001b[0;32m    361\u001b[0m \u001b[1;33m\u001b[0m\u001b[0m\n\u001b[0;32m    362\u001b[0m         \u001b[1;31m# Get outputs.\u001b[0m\u001b[1;33m\u001b[0m\u001b[1;33m\u001b[0m\u001b[1;33m\u001b[0m\u001b[0m\n\u001b[1;32m--> 363\u001b[1;33m         \u001b[0mbatch_outs\u001b[0m \u001b[1;33m=\u001b[0m \u001b[0mf\u001b[0m\u001b[1;33m(\u001b[0m\u001b[0mins_batch\u001b[0m\u001b[1;33m)\u001b[0m\u001b[1;33m\u001b[0m\u001b[1;33m\u001b[0m\u001b[0m\n\u001b[0m\u001b[0;32m    364\u001b[0m         \u001b[1;32mif\u001b[0m \u001b[1;32mnot\u001b[0m \u001b[0misinstance\u001b[0m\u001b[1;33m(\u001b[0m\u001b[0mbatch_outs\u001b[0m\u001b[1;33m,\u001b[0m \u001b[0mlist\u001b[0m\u001b[1;33m)\u001b[0m\u001b[1;33m:\u001b[0m\u001b[1;33m\u001b[0m\u001b[1;33m\u001b[0m\u001b[0m\n\u001b[0;32m    365\u001b[0m           \u001b[0mbatch_outs\u001b[0m \u001b[1;33m=\u001b[0m \u001b[1;33m[\u001b[0m\u001b[0mbatch_outs\u001b[0m\u001b[1;33m]\u001b[0m\u001b[1;33m\u001b[0m\u001b[1;33m\u001b[0m\u001b[0m\n",
      "\u001b[1;32m~\\AppData\\Local\\Continuum\\anaconda3\\envs\\tf-gpu\\lib\\site-packages\\tensorflow\\python\\keras\\backend.py\u001b[0m in \u001b[0;36m__call__\u001b[1;34m(self, inputs)\u001b[0m\n\u001b[0;32m   3290\u001b[0m \u001b[1;33m\u001b[0m\u001b[0m\n\u001b[0;32m   3291\u001b[0m     fetched = self._callable_fn(*array_vals,\n\u001b[1;32m-> 3292\u001b[1;33m                                 run_metadata=self.run_metadata)\n\u001b[0m\u001b[0;32m   3293\u001b[0m     \u001b[0mself\u001b[0m\u001b[1;33m.\u001b[0m\u001b[0m_call_fetch_callbacks\u001b[0m\u001b[1;33m(\u001b[0m\u001b[0mfetched\u001b[0m\u001b[1;33m[\u001b[0m\u001b[1;33m-\u001b[0m\u001b[0mlen\u001b[0m\u001b[1;33m(\u001b[0m\u001b[0mself\u001b[0m\u001b[1;33m.\u001b[0m\u001b[0m_fetches\u001b[0m\u001b[1;33m)\u001b[0m\u001b[1;33m:\u001b[0m\u001b[1;33m]\u001b[0m\u001b[1;33m)\u001b[0m\u001b[1;33m\u001b[0m\u001b[1;33m\u001b[0m\u001b[0m\n\u001b[0;32m   3294\u001b[0m     output_structure = nest.pack_sequence_as(\n",
      "\u001b[1;32m~\\AppData\\Local\\Continuum\\anaconda3\\envs\\tf-gpu\\lib\\site-packages\\tensorflow\\python\\client\\session.py\u001b[0m in \u001b[0;36m__call__\u001b[1;34m(self, *args, **kwargs)\u001b[0m\n\u001b[0;32m   1456\u001b[0m         ret = tf_session.TF_SessionRunCallable(self._session._session,\n\u001b[0;32m   1457\u001b[0m                                                \u001b[0mself\u001b[0m\u001b[1;33m.\u001b[0m\u001b[0m_handle\u001b[0m\u001b[1;33m,\u001b[0m \u001b[0margs\u001b[0m\u001b[1;33m,\u001b[0m\u001b[1;33m\u001b[0m\u001b[1;33m\u001b[0m\u001b[0m\n\u001b[1;32m-> 1458\u001b[1;33m                                                run_metadata_ptr)\n\u001b[0m\u001b[0;32m   1459\u001b[0m         \u001b[1;32mif\u001b[0m \u001b[0mrun_metadata\u001b[0m\u001b[1;33m:\u001b[0m\u001b[1;33m\u001b[0m\u001b[1;33m\u001b[0m\u001b[0m\n\u001b[0;32m   1460\u001b[0m           \u001b[0mproto_data\u001b[0m \u001b[1;33m=\u001b[0m \u001b[0mtf_session\u001b[0m\u001b[1;33m.\u001b[0m\u001b[0mTF_GetBuffer\u001b[0m\u001b[1;33m(\u001b[0m\u001b[0mrun_metadata_ptr\u001b[0m\u001b[1;33m)\u001b[0m\u001b[1;33m\u001b[0m\u001b[1;33m\u001b[0m\u001b[0m\n",
      "\u001b[1;31mKeyboardInterrupt\u001b[0m: "
     ]
    }
   ],
   "source": [
    "input_trade = Input(train_trade.shape[1:])\n",
    "trade_model = Conv2D(filters=1, \n",
    "              strides=1, \n",
    "              padding='valid', \n",
    "              activation='relu',\n",
    "              kernel_size=(1, 11),\n",
    "              data_format='channels_first')(input_trade)\n",
    "trade_model = Conv2D(filters=1, \n",
    "              strides=1, \n",
    "              padding='valid', \n",
    "              activation='relu',\n",
    "              kernel_size=(10, 1),\n",
    "              data_format='channels_first')(trade_model)\n",
    "trade_model = Flatten()(trade_model)\n",
    "input_asset = Input(train_asset.shape[1:])\n",
    "asset_model = Conv2D(filters=1, \n",
    "              strides=1, \n",
    "              padding='valid', \n",
    "              activation='relu',\n",
    "              kernel_size=(1, 21),\n",
    "              data_format='channels_first')(input_asset)\n",
    "asset_model = Conv2D(filters=1, \n",
    "              strides=1, \n",
    "              padding='valid', \n",
    "              activation='relu',\n",
    "              kernel_size=(10, 1),\n",
    "              data_format='channels_first')(asset_model)\n",
    "asset_model = Flatten()(asset_model)\n",
    "input_demographic = Input(train_demo.shape[1:])\n",
    "combinedInput = concatenate([trade_model, asset_model, input_demographic])\n",
    "full_model = Dense(128, activation='relu')(combinedInput)\n",
    "full_model = Dense(32, activation='relu')(full_model)\n",
    "full_model = Dense(8, activation='relu')(full_model)\n",
    "full_model = Dense(2, activation='softmax')(full_model)\n",
    "model = Model([input_trade, input_asset, input_demographic], full_model)\n",
    "opt = optimizers.Nadam(lr=0.001)\n",
    "model.compile(loss='categorical_crossentropy', optimizer=opt, metrics=[tf.keras.metrics.AUC()])\n",
    "model.fit([train_trade, train_asset, train_demo], Y_train, validation_data=([val_trade, val_asset, val_demo], Y_val), batch_size=8, epochs=10, verbose=2)"
   ]
  },
  {
   "cell_type": "markdown",
   "metadata": {},
   "source": [
    "Evaluation"
   ]
  },
  {
   "cell_type": "code",
   "execution_count": 11,
   "metadata": {
    "scrolled": true
   },
   "outputs": [
    {
     "name": "stdout",
     "output_type": "stream",
     "text": [
      "0.8563327032136105\n",
      "              precision    recall  f1-score   support\n",
      "\n",
      "      ACTIVE       0.88      0.82      0.85       514\n",
      "       CHURN       0.84      0.90      0.87       544\n",
      "\n",
      "    accuracy                           0.86      1058\n",
      "   macro avg       0.86      0.86      0.86      1058\n",
      "weighted avg       0.86      0.86      0.86      1058\n",
      "\n"
     ]
    }
   ],
   "source": [
    "result = func.Evaluation([test_trade, test_asset, test_demo], label_test, threshold=0.5)\n",
    "print(result[0])\n",
    "print(result[1])"
   ]
  },
  {
   "cell_type": "code",
   "execution_count": 28,
   "metadata": {},
   "outputs": [],
   "source": [
    "model.save(r'D:\\Customer_Value\\model\\first_stage.h5')"
   ]
  },
  {
   "cell_type": "markdown",
   "metadata": {},
   "source": [
    "Evaluation on other samples"
   ]
  },
  {
   "cell_type": "code",
   "execution_count": 3,
   "metadata": {},
   "outputs": [
    {
     "name": "stderr",
     "output_type": "stream",
     "text": [
      "WARNING: Logging before flag parsing goes to stderr.\n",
      "W0303 09:03:22.524970 12480 deprecation.py:506] From C:\\Users\\011553\\AppData\\Local\\Continuum\\anaconda3\\envs\\tf-gpu\\lib\\site-packages\\tensorflow\\python\\ops\\init_ops.py:97: calling GlorotUniform.__init__ (from tensorflow.python.ops.init_ops) with dtype is deprecated and will be removed in a future version.\n",
      "Instructions for updating:\n",
      "Call initializer instance with the dtype argument instead of passing it to the constructor\n",
      "W0303 09:03:22.527948 12480 deprecation.py:506] From C:\\Users\\011553\\AppData\\Local\\Continuum\\anaconda3\\envs\\tf-gpu\\lib\\site-packages\\tensorflow\\python\\ops\\init_ops.py:1251: calling VarianceScaling.__init__ (from tensorflow.python.ops.init_ops) with dtype is deprecated and will be removed in a future version.\n",
      "Instructions for updating:\n",
      "Call initializer instance with the dtype argument instead of passing it to the constructor\n",
      "W0303 09:03:22.528949 12480 deprecation.py:506] From C:\\Users\\011553\\AppData\\Local\\Continuum\\anaconda3\\envs\\tf-gpu\\lib\\site-packages\\tensorflow\\python\\ops\\init_ops.py:97: calling Zeros.__init__ (from tensorflow.python.ops.init_ops) with dtype is deprecated and will be removed in a future version.\n",
      "Instructions for updating:\n",
      "Call initializer instance with the dtype argument instead of passing it to the constructor\n"
     ]
    }
   ],
   "source": [
    "model = load_model(r'D:\\Customer_Value\\model\\first_stage.h5')"
   ]
  },
  {
   "cell_type": "code",
   "execution_count": 4,
   "metadata": {},
   "outputs": [],
   "source": [
    "with open(r'D:\\Customer_Value\\data\\evaluate\\local\\evaluate_large', 'rb') as fp:\n",
    "    eval_test = pickle.load(fp)"
   ]
  },
  {
   "cell_type": "code",
   "execution_count": 7,
   "metadata": {},
   "outputs": [],
   "source": [
    "# eval_test_trade = np.array([[data[i].values.tolist() for i in range(2)] for data in eval_test])\n",
    "# eval_test_asset = np.array([[data[i].values.tolist() for i in range(2, 5)] for data in eval_test])\n",
    "eval_test_demo = np.array([data[5] for data in eval_test])\n",
    "label_test_eval = [data[7] for data in eval_test]\n",
    "Y_test_eval = pd.DataFrame(label_test_eval, columns=['label'])\n",
    "Y_test_eval = pd.get_dummies(Y_test_eval, columns=['label'])\n",
    "Y_test_eval = Y_test_eval.values"
   ]
  },
  {
   "cell_type": "code",
   "execution_count": 43,
   "metadata": {},
   "outputs": [
    {
     "data": {
      "text/plain": [
       "(1041, 2, 120, 11)"
      ]
     },
     "execution_count": 43,
     "metadata": {},
     "output_type": "execute_result"
    }
   ],
   "source": [
    "test_trade.shape"
   ]
  },
  {
   "cell_type": "code",
   "execution_count": 10,
   "metadata": {
    "scrolled": true
   },
   "outputs": [
    {
     "name": "stderr",
     "output_type": "stream",
     "text": [
      "C:\\Users\\011553\\AppData\\Local\\Continuum\\anaconda3\\envs\\tf-gpu\\lib\\site-packages\\sklearn\\metrics\\classification.py:1439: UndefinedMetricWarning: Recall and F-score are ill-defined and being set to 0.0 in labels with no true samples.\n",
      "  'recall', 'true', average, warn_for)\n"
     ]
    },
    {
     "name": "stdout",
     "output_type": "stream",
     "text": [
      "0.83064\n",
      "              precision    recall  f1-score   support\n",
      "\n",
      "      ACTIVE       1.00      0.83      0.91    150000\n",
      "       CHURN       0.00      0.00      0.00         0\n",
      "\n",
      "    accuracy                           0.83    150000\n",
      "   macro avg       0.50      0.42      0.45    150000\n",
      "weighted avg       1.00      0.83      0.91    150000\n",
      "\n"
     ]
    }
   ],
   "source": [
    "result = func.Evaluation([eval_test_trade, eval_test_asset, eval_test_demo], label_test_eval, model, threshold=0.5)\n",
    "print(result[0])\n",
    "print(result[1])"
   ]
  },
  {
   "cell_type": "code",
   "execution_count": null,
   "metadata": {},
   "outputs": [],
   "source": []
  }
 ],
 "metadata": {
  "kernelspec": {
   "display_name": "Python (tf-gpu)",
   "language": "python",
   "name": "tf-gpu"
  },
  "language_info": {
   "codemirror_mode": {
    "name": "ipython",
    "version": 3
   },
   "file_extension": ".py",
   "mimetype": "text/x-python",
   "name": "python",
   "nbconvert_exporter": "python",
   "pygments_lexer": "ipython3",
   "version": "3.6.9"
  }
 },
 "nbformat": 4,
 "nbformat_minor": 2
}
