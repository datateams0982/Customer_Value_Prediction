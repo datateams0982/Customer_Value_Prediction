{
 "cells": [
  {
   "cell_type": "code",
   "execution_count": 1,
   "metadata": {},
   "outputs": [],
   "source": [
    "import pandas as pd\n",
    "import numpy as np\n",
    "from multiprocessing import Pool\n",
    "from functools import partial\n",
    "import Preprocess_func as func\n",
    "from tqdm import tqdm_notebook as tqdm\n",
    "from datetime import date, timedelta"
   ]
  },
  {
   "cell_type": "markdown",
   "metadata": {},
   "source": [
    "Preprocess asset data year by year"
   ]
  },
  {
   "cell_type": "code",
   "execution_count": 5,
   "metadata": {},
   "outputs": [],
   "source": [
    "df = pd.read_csv(r'D:\\Customer_Value\\data\\st_trading.csv')"
   ]
  },
  {
   "cell_type": "code",
   "execution_count": 6,
   "metadata": {},
   "outputs": [],
   "source": [
    "max_date = df['MTH_DATE'].max()"
   ]
  },
  {
   "cell_type": "code",
   "execution_count": 3,
   "metadata": {},
   "outputs": [],
   "source": [
    "id_list = df['S_IDNO'].unique().tolist()"
   ]
  },
  {
   "cell_type": "code",
   "execution_count": 7,
   "metadata": {},
   "outputs": [],
   "source": [
    "del df"
   ]
  },
  {
   "cell_type": "code",
   "execution_count": 9,
   "metadata": {},
   "outputs": [],
   "source": [
    "asset = pd.read_csv(r'D:\\Customer_Value\\data\\st_asset7.csv')"
   ]
  },
  {
   "cell_type": "code",
   "execution_count": 10,
   "metadata": {},
   "outputs": [],
   "source": [
    "asset1 = asset.iloc[:35000000]\n",
    "asset2 = asset.iloc[35000000:70000000]\n",
    "asset3 = asset.iloc[70000000:]"
   ]
  },
  {
   "cell_type": "code",
   "execution_count": 11,
   "metadata": {},
   "outputs": [],
   "source": [
    "del asset"
   ]
  },
  {
   "cell_type": "code",
   "execution_count": 16,
   "metadata": {
    "scrolled": true
   },
   "outputs": [],
   "source": [
    "asset1[['S_IDNO', 'MTH_DATE', 'ST_ASSET', 'MP_ASSET']] = asset1.iloc[:, 0].str.split(expand=True, n=3)\n",
    "asset1 = asset1.iloc[:, 1:]\n",
    "asset1 = asset1[asset1.MTH_DATE <= max_date]\n",
    "asset1 = asset1[asset1.S_IDNO.isin(id_list)]\n",
    "asset1[['MP_ASSET', 'SS_ASSET']] = asset1['MP_ASSET'].str.split(expand=True, n=1)"
   ]
  },
  {
   "cell_type": "code",
   "execution_count": 17,
   "metadata": {},
   "outputs": [
    {
     "data": {
      "text/html": [
       "<div>\n",
       "<style scoped>\n",
       "    .dataframe tbody tr th:only-of-type {\n",
       "        vertical-align: middle;\n",
       "    }\n",
       "\n",
       "    .dataframe tbody tr th {\n",
       "        vertical-align: top;\n",
       "    }\n",
       "\n",
       "    .dataframe thead th {\n",
       "        text-align: right;\n",
       "    }\n",
       "</style>\n",
       "<table border=\"1\" class=\"dataframe\">\n",
       "  <thead>\n",
       "    <tr style=\"text-align: right;\">\n",
       "      <th></th>\n",
       "      <th>S_IDNO</th>\n",
       "      <th>MTH_DATE</th>\n",
       "      <th>ST_ASSET</th>\n",
       "      <th>MP_ASSET</th>\n",
       "      <th>SS_ASSET</th>\n",
       "    </tr>\n",
       "  </thead>\n",
       "  <tbody>\n",
       "    <tr>\n",
       "      <td>1</td>\n",
       "      <td>A100000136</td>\n",
       "      <td>2019-01-02</td>\n",
       "      <td>1306090</td>\n",
       "      <td>0</td>\n",
       "      <td>0</td>\n",
       "    </tr>\n",
       "    <tr>\n",
       "      <td>5</td>\n",
       "      <td>A100001259</td>\n",
       "      <td>2019-01-02</td>\n",
       "      <td>722227</td>\n",
       "      <td>0</td>\n",
       "      <td>0</td>\n",
       "    </tr>\n",
       "    <tr>\n",
       "      <td>9</td>\n",
       "      <td>A100002167</td>\n",
       "      <td>2019-01-02</td>\n",
       "      <td>16100</td>\n",
       "      <td>0</td>\n",
       "      <td>0</td>\n",
       "    </tr>\n",
       "    <tr>\n",
       "      <td>17</td>\n",
       "      <td>A100006576</td>\n",
       "      <td>2019-01-02</td>\n",
       "      <td>1095980</td>\n",
       "      <td>0</td>\n",
       "      <td>0</td>\n",
       "    </tr>\n",
       "    <tr>\n",
       "      <td>18</td>\n",
       "      <td>A100006601</td>\n",
       "      <td>2019-01-02</td>\n",
       "      <td>0</td>\n",
       "      <td>0</td>\n",
       "      <td>0</td>\n",
       "    </tr>\n",
       "    <tr>\n",
       "      <td>...</td>\n",
       "      <td>...</td>\n",
       "      <td>...</td>\n",
       "      <td>...</td>\n",
       "      <td>...</td>\n",
       "      <td>...</td>\n",
       "    </tr>\n",
       "    <tr>\n",
       "      <td>9420843</td>\n",
       "      <td>Z200135119</td>\n",
       "      <td>2019-02-12</td>\n",
       "      <td>1795233</td>\n",
       "      <td>0</td>\n",
       "      <td>0</td>\n",
       "    </tr>\n",
       "    <tr>\n",
       "      <td>9420845</td>\n",
       "      <td>Z200136661</td>\n",
       "      <td>2019-02-12</td>\n",
       "      <td>2325496</td>\n",
       "      <td>0</td>\n",
       "      <td>0</td>\n",
       "    </tr>\n",
       "    <tr>\n",
       "      <td>9420846</td>\n",
       "      <td>Z200136876</td>\n",
       "      <td>2019-02-12</td>\n",
       "      <td>12290023</td>\n",
       "      <td>0</td>\n",
       "      <td>0</td>\n",
       "    </tr>\n",
       "    <tr>\n",
       "      <td>9420847</td>\n",
       "      <td>Z200145633</td>\n",
       "      <td>2019-02-12</td>\n",
       "      <td>155200</td>\n",
       "      <td>0</td>\n",
       "      <td>0</td>\n",
       "    </tr>\n",
       "    <tr>\n",
       "      <td>9420848</td>\n",
       "      <td>Z221929111</td>\n",
       "      <td>2019-02-12</td>\n",
       "      <td>73503</td>\n",
       "      <td>0</td>\n",
       "      <td>0</td>\n",
       "    </tr>\n",
       "  </tbody>\n",
       "</table>\n",
       "<p>4605955 rows × 5 columns</p>\n",
       "</div>"
      ],
      "text/plain": [
       "             S_IDNO    MTH_DATE  ST_ASSET MP_ASSET SS_ASSET\n",
       "1        A100000136  2019-01-02   1306090        0        0\n",
       "5        A100001259  2019-01-02    722227        0        0\n",
       "9        A100002167  2019-01-02     16100        0        0\n",
       "17       A100006576  2019-01-02   1095980        0        0\n",
       "18       A100006601  2019-01-02         0        0        0\n",
       "...             ...         ...       ...      ...      ...\n",
       "9420843  Z200135119  2019-02-12   1795233        0        0\n",
       "9420845  Z200136661  2019-02-12   2325496        0        0\n",
       "9420846  Z200136876  2019-02-12  12290023        0        0\n",
       "9420847  Z200145633  2019-02-12    155200        0        0\n",
       "9420848  Z221929111  2019-02-12     73503        0        0\n",
       "\n",
       "[4605955 rows x 5 columns]"
      ]
     },
     "execution_count": 17,
     "metadata": {},
     "output_type": "execute_result"
    }
   ],
   "source": [
    "asset1"
   ]
  },
  {
   "cell_type": "code",
   "execution_count": 18,
   "metadata": {},
   "outputs": [],
   "source": [
    "asset1.to_csv(r'D:\\Customer_Value\\data\\st_asset7_processed.csv', index=False)"
   ]
  },
  {
   "cell_type": "code",
   "execution_count": 15,
   "metadata": {},
   "outputs": [],
   "source": [
    "del asset3"
   ]
  },
  {
   "cell_type": "code",
   "execution_count": 2,
   "metadata": {},
   "outputs": [],
   "source": [
    "asset1 = pd.read_csv(r'D:\\Customer_Value\\data\\st_asset7_processed1.csv')\n",
    "asset2 = pd.read_csv(r'D:\\Customer_Value\\data\\st_asset7_processed2.csv')\n",
    "asset3 = pd.read_csv(r'D:\\Customer_Value\\data\\st_asset7_processed3.csv')"
   ]
  },
  {
   "cell_type": "code",
   "execution_count": 3,
   "metadata": {},
   "outputs": [],
   "source": [
    "asset = pd.concat([asset1, asset2, asset3], axis=0)"
   ]
  },
  {
   "cell_type": "code",
   "execution_count": 4,
   "metadata": {},
   "outputs": [],
   "source": [
    "asset.to_csv(r'D:\\Customer_Value\\data\\st_asset7_processed.csv', index=False)"
   ]
  },
  {
   "cell_type": "code",
   "execution_count": 5,
   "metadata": {},
   "outputs": [
    {
     "data": {
      "text/html": [
       "<div>\n",
       "<style scoped>\n",
       "    .dataframe tbody tr th:only-of-type {\n",
       "        vertical-align: middle;\n",
       "    }\n",
       "\n",
       "    .dataframe tbody tr th {\n",
       "        vertical-align: top;\n",
       "    }\n",
       "\n",
       "    .dataframe thead th {\n",
       "        text-align: right;\n",
       "    }\n",
       "</style>\n",
       "<table border=\"1\" class=\"dataframe\">\n",
       "  <thead>\n",
       "    <tr style=\"text-align: right;\">\n",
       "      <th></th>\n",
       "      <th>S_IDNO</th>\n",
       "      <th>MTH_DATE</th>\n",
       "      <th>ST_ASSET</th>\n",
       "      <th>MP_ASSET</th>\n",
       "      <th>SS_ASSET</th>\n",
       "    </tr>\n",
       "  </thead>\n",
       "  <tbody>\n",
       "    <tr>\n",
       "      <td>0</td>\n",
       "      <td>A100000136</td>\n",
       "      <td>2018-01-02</td>\n",
       "      <td>1599700</td>\n",
       "      <td>0</td>\n",
       "      <td>0</td>\n",
       "    </tr>\n",
       "    <tr>\n",
       "      <td>1</td>\n",
       "      <td>A100001259</td>\n",
       "      <td>2018-01-02</td>\n",
       "      <td>213626</td>\n",
       "      <td>0</td>\n",
       "      <td>0</td>\n",
       "    </tr>\n",
       "    <tr>\n",
       "      <td>2</td>\n",
       "      <td>A100002167</td>\n",
       "      <td>2018-01-02</td>\n",
       "      <td>279500</td>\n",
       "      <td>0</td>\n",
       "      <td>0</td>\n",
       "    </tr>\n",
       "    <tr>\n",
       "      <td>3</td>\n",
       "      <td>A100006576</td>\n",
       "      <td>2018-01-02</td>\n",
       "      <td>1433470</td>\n",
       "      <td>0</td>\n",
       "      <td>0</td>\n",
       "    </tr>\n",
       "    <tr>\n",
       "      <td>4</td>\n",
       "      <td>A100006601</td>\n",
       "      <td>2018-01-02</td>\n",
       "      <td>0</td>\n",
       "      <td>0</td>\n",
       "      <td>0</td>\n",
       "    </tr>\n",
       "    <tr>\n",
       "      <td>...</td>\n",
       "      <td>...</td>\n",
       "      <td>...</td>\n",
       "      <td>...</td>\n",
       "      <td>...</td>\n",
       "      <td>...</td>\n",
       "    </tr>\n",
       "    <tr>\n",
       "      <td>14997027</td>\n",
       "      <td>Z200135119</td>\n",
       "      <td>2018-12-28</td>\n",
       "      <td>1711329</td>\n",
       "      <td>0</td>\n",
       "      <td>0</td>\n",
       "    </tr>\n",
       "    <tr>\n",
       "      <td>14997028</td>\n",
       "      <td>Z200136661</td>\n",
       "      <td>2018-12-28</td>\n",
       "      <td>2188554</td>\n",
       "      <td>0</td>\n",
       "      <td>0</td>\n",
       "    </tr>\n",
       "    <tr>\n",
       "      <td>14997029</td>\n",
       "      <td>Z200136876</td>\n",
       "      <td>2018-12-28</td>\n",
       "      <td>12235990</td>\n",
       "      <td>0</td>\n",
       "      <td>0</td>\n",
       "    </tr>\n",
       "    <tr>\n",
       "      <td>14997030</td>\n",
       "      <td>Z200145633</td>\n",
       "      <td>2018-12-28</td>\n",
       "      <td>157600</td>\n",
       "      <td>0</td>\n",
       "      <td>0</td>\n",
       "    </tr>\n",
       "    <tr>\n",
       "      <td>14997031</td>\n",
       "      <td>Z221929111</td>\n",
       "      <td>2018-12-28</td>\n",
       "      <td>69897</td>\n",
       "      <td>0</td>\n",
       "      <td>0</td>\n",
       "    </tr>\n",
       "  </tbody>\n",
       "</table>\n",
       "<p>49218547 rows × 5 columns</p>\n",
       "</div>"
      ],
      "text/plain": [
       "              S_IDNO    MTH_DATE  ST_ASSET  MP_ASSET  SS_ASSET\n",
       "0         A100000136  2018-01-02   1599700         0         0\n",
       "1         A100001259  2018-01-02    213626         0         0\n",
       "2         A100002167  2018-01-02    279500         0         0\n",
       "3         A100006576  2018-01-02   1433470         0         0\n",
       "4         A100006601  2018-01-02         0         0         0\n",
       "...              ...         ...       ...       ...       ...\n",
       "14997027  Z200135119  2018-12-28   1711329         0         0\n",
       "14997028  Z200136661  2018-12-28   2188554         0         0\n",
       "14997029  Z200136876  2018-12-28  12235990         0         0\n",
       "14997030  Z200145633  2018-12-28    157600         0         0\n",
       "14997031  Z221929111  2018-12-28     69897         0         0\n",
       "\n",
       "[49218547 rows x 5 columns]"
      ]
     },
     "execution_count": 5,
     "metadata": {},
     "output_type": "execute_result"
    }
   ],
   "source": [
    "asset"
   ]
  },
  {
   "cell_type": "code",
   "execution_count": null,
   "metadata": {},
   "outputs": [],
   "source": []
  }
 ],
 "metadata": {
  "kernelspec": {
   "display_name": "Python (tf-gpu)",
   "language": "python",
   "name": "tf-gpu"
  },
  "language_info": {
   "codemirror_mode": {
    "name": "ipython",
    "version": 3
   },
   "file_extension": ".py",
   "mimetype": "text/x-python",
   "name": "python",
   "nbconvert_exporter": "python",
   "pygments_lexer": "ipython3",
   "version": "3.6.9"
  }
 },
 "nbformat": 4,
 "nbformat_minor": 2
}
