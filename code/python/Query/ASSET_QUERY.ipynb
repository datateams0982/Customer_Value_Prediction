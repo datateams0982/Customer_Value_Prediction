{
 "cells": [
  {
   "cell_type": "code",
   "execution_count": 1,
   "metadata": {},
   "outputs": [],
   "source": [
    "import pymssql as mssql\n",
    "from pathlib import Path\n",
    "import pandas as pd\n",
    "import numpy as np\n",
    "from datetime import date, timedelta"
   ]
  },
  {
   "cell_type": "code",
   "execution_count": 2,
   "metadata": {},
   "outputs": [],
   "source": [
    "def send_query(query):\n",
    "    \n",
    "    '''\n",
    "    Function sending query to ODS\n",
    "    Input: Query(String)\n",
    "    Output: Dataframe wanted \n",
    "    '''    \n",
    "\n",
    "    \n",
    "    ods = mssql.connect(host = '128.110.13.89', \n",
    "                      user = '011553', \n",
    "                      password = 'Sino821031pac')\n",
    "\n",
    "    odscur = ods.cursor(as_dict = True)\n",
    "    odscur.execute(query)\n",
    "    try:\n",
    "        temp = odscur.fetchall()\n",
    "    except:\n",
    "        temp = []\n",
    "        \n",
    "    row_count = int(odscur.rowcount)\n",
    "    df = pd.DataFrame(temp)\n",
    "    ods.commit()\n",
    "    ods.close()\n",
    "\n",
    "    return df, row_count"
   ]
  },
  {
   "cell_type": "code",
   "execution_count": 3,
   "metadata": {},
   "outputs": [],
   "source": [
    "st_query = '''\n",
    "SELECT RTRIM(LTRIM(S_IDNO)) AS S_IDNO,\n",
    "        CASE WHEN ISDATE(DATE_YMD) = 1 THEN CONVERT(DATE, DATE_YMD) ELSE NULL END AS MTH_DATE,\n",
    "\t\tSUM(STK_MK_AMT) AS ST_ASSET,\n",
    "        SUM(MP_NET_AMT) AS MP_ASSET,\n",
    "        SUM(SS_NET_AMT) AS SS_ASSET\n",
    "FROM ODS.dbo.STS_ASSET_CUSTOMER_D\n",
    "WHERE ISDATE(DATE_YMD) = 1 \n",
    "\t\tAND LTRIM(RTRIM(S_IDNO)) LIKE '[A-Z]%' \n",
    "\t\tAND SUBSTRING(LTRIM(RTRIM(S_IDNO)), 2, 1) IN ('1', '2') \n",
    "\t\tAND ISNUMERIC(RIGHT(LTRIM(RTRIM(S_IDNO)), 8)) = 1\n",
    "\t\tAND RTRIM(LTRIM(S_IDNO)) IN (SELECT DISTINCT(RTRIM(LTRIM(S_IDNO))) FROM ODS.dbo.ST_CUSTOMER)\n",
    "\t\tAND LTRIM(RTRIM(S_IDNO)) NOT IN (SELECT DISTINCT(RTRIM(LTRIM(S_IDNO))) AS S_IDNO\n",
    "\t\t\t\t\t\t\t\t\t\t\tFROM ODS.dbo.FU_CUSTOMER\n",
    "\t\t\t\t\t\t\t\t\t\t\tWHERE LTRIM(RTRIM(S_IDNO)) LIKE '[A-Z]%' \n",
    "\t\t\t\t\t\t\t\t\t\t\t\t\tAND SUBSTRING(LTRIM(RTRIM(S_IDNO)), 2, 1) IN ('1', '2') \n",
    "\t\t\t\t\t\t\t\t\t\t\t\t\tAND ISNUMERIC(RIGHT(LTRIM(RTRIM(S_IDNO)), 8)) = 1)\n",
    "\t\tAND LTRIM(RTRIM(S_IDNO)) NOT IN (SELECT DISTINCT(RTRIM(LTRIM(S_IDNO))) AS S_IDNO\n",
    "\t\t\t\t\t\t\t\t\t\t\tFROM ODS.dbo.SUB_CUSTOMER\n",
    "\t\t\t\t\t\t\t\t\t\t\tWHERE LTRIM(RTRIM(S_IDNO)) LIKE '[A-Z]%' \n",
    "\t\t\t\t\t\t\t\t\t\t\t\t\tAND SUBSTRING(LTRIM(RTRIM(S_IDNO)), 2, 1) IN ('1', '2') \n",
    "\t\t\t\t\t\t\t\t\t\t\t\t\tAND ISNUMERIC(RIGHT(LTRIM(RTRIM(S_IDNO)), 8)) = 1)\n",
    "\t\tAND LEFT(DATE_YMD, 4) = '2013'\n",
    "GROUP BY RTRIM(LTRIM(S_IDNO)), DATE_YMD\n",
    "'''"
   ]
  },
  {
   "cell_type": "code",
   "execution_count": 4,
   "metadata": {},
   "outputs": [],
   "source": [
    "df = pd.read_csv(r'D:\\Customer_Value\\data\\st_trading.csv')\n",
    "id_list = df['S_IDNO'].unique().tolist()\n",
    "del df"
   ]
  },
  {
   "cell_type": "code",
   "execution_count": null,
   "metadata": {},
   "outputs": [],
   "source": [
    "st_df, rows = send_query(st_query)"
   ]
  },
  {
   "cell_type": "code",
   "execution_count": null,
   "metadata": {},
   "outputs": [],
   "source": [
    "st_df['MTH_DATE'] = pd.to_datetime(st_df['MTH_DATE'])\n",
    "st_df = st_df[st_df.S_IDNO.isin(id_list)]"
   ]
  },
  {
   "cell_type": "code",
   "execution_count": null,
   "metadata": {},
   "outputs": [],
   "source": [
    "st_df.to_csv(r'D:\\Customer_Value\\data\\st_asset1.csv', index=False)"
   ]
  },
  {
   "cell_type": "code",
   "execution_count": null,
   "metadata": {},
   "outputs": [],
   "source": []
  }
 ],
 "metadata": {
  "kernelspec": {
   "display_name": "Python (tf-gpu)",
   "language": "python",
   "name": "tf-gpu"
  },
  "language_info": {
   "codemirror_mode": {
    "name": "ipython",
    "version": 3
   },
   "file_extension": ".py",
   "mimetype": "text/x-python",
   "name": "python",
   "nbconvert_exporter": "python",
   "pygments_lexer": "ipython3",
   "version": "3.6.9"
  }
 },
 "nbformat": 4,
 "nbformat_minor": 2
}
