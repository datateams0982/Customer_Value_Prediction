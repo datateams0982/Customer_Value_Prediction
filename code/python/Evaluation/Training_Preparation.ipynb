{
 "cells": [
  {
   "cell_type": "code",
   "execution_count": 1,
   "metadata": {},
   "outputs": [],
   "source": [
    "import pandas as pd\n",
    "import numpy as np\n",
    "from multiprocessing import Pool\n",
    "from functools import partial\n",
    "import Evaluation_func as func\n",
    "from tqdm import tqdm_notebook as tqdm\n",
    "from datetime import date, timedelta\n",
    "import pickle"
   ]
  },
  {
   "cell_type": "code",
   "execution_count": 2,
   "metadata": {},
   "outputs": [],
   "source": [
    "df = pd.read_csv(r'D:\\Customer_Value\\data\\evaluate\\st_sample_all_large.csv')"
   ]
  },
  {
   "cell_type": "markdown",
   "metadata": {},
   "source": [
    "One Hot Encoding"
   ]
  },
  {
   "cell_type": "code",
   "execution_count": 3,
   "metadata": {},
   "outputs": [],
   "source": [
    "df[['AMT_B_label', 'AMT_S_label', 'ST_ASSET_label', 'MP_ASSET_label', 'SS_ASSET_label', 'TRADE']] = df[['AMT_B_label', 'AMT_S_label', 'ST_ASSET_label', 'MP_ASSET_label', 'SS_ASSET_label', 'TRADE']].astype(int)\n",
    "df = pd.get_dummies(df, columns=['AMT_B_label', 'AMT_S_label', 'ST_ASSET_label', 'MP_ASSET_label', 'SS_ASSET_label', 'TRADE'], prefix=['AMT_B', 'AMT_S', 'ST_ASSET', 'MP_ASSET', 'SS_ASSET', 'TRADE'])"
   ]
  },
  {
   "cell_type": "code",
   "execution_count": 4,
   "metadata": {},
   "outputs": [],
   "source": [
    "for i in range(1, 11):\n",
    "    for col in ['ST_ASSET', 'MP_ASSET', 'SS_ASSET']:\n",
    "        if f'{col}_{-1 * i}' not in df.columns:\n",
    "            df[f'{col}_{-1 * i}'] = 0"
   ]
  },
  {
   "cell_type": "markdown",
   "metadata": {},
   "source": [
    "Transfer Data to Local Training"
   ]
  },
  {
   "cell_type": "code",
   "execution_count": 5,
   "metadata": {},
   "outputs": [
    {
     "data": {
      "application/vnd.jupyter.widget-view+json": {
       "model_id": "aea1292724cb40e194329dea49e45612",
       "version_major": 2,
       "version_minor": 0
      },
      "text/plain": [
       "HBox(children=(IntProgress(value=0, max=150000), HTML(value='')))"
      ]
     },
     "metadata": {},
     "output_type": "display_data"
    },
    {
     "name": "stdout",
     "output_type": "stream",
     "text": [
      "\n"
     ]
    }
   ],
   "source": [
    "df_list = [group[1] for group in df.groupby(df['sample_no'])]\n",
    "output = []\n",
    "\n",
    "if __name__ == '__main__':\n",
    "    with Pool(processes=12) as pool:\n",
    "        for i, x in enumerate(tqdm(pool.imap_unordered(func.transfer_data, df_list), total=len(df_list)), 1):\n",
    "            output.append(x)"
   ]
  },
  {
   "cell_type": "markdown",
   "metadata": {},
   "source": [
    "Save Local Training Data"
   ]
  },
  {
   "cell_type": "code",
   "execution_count": 6,
   "metadata": {},
   "outputs": [],
   "source": [
    "with open(r'D:\\Customer_Value\\data\\evaluate\\local\\evaluate_large', 'wb') as fp:\n",
    "    pickle.dump(output, fp)"
   ]
  },
  {
   "cell_type": "markdown",
   "metadata": {},
   "source": [
    "Transfer Data to Google Training"
   ]
  },
  {
   "cell_type": "code",
   "execution_count": 3,
   "metadata": {},
   "outputs": [
    {
     "data": {
      "application/vnd.jupyter.widget-view+json": {
       "model_id": "",
       "version_major": 2,
       "version_minor": 0
      },
      "text/plain": [
       "HBox(children=(IntProgress(value=0, max=150000), HTML(value='')))"
      ]
     },
     "metadata": {},
     "output_type": "display_data"
    },
    {
     "name": "stdout",
     "output_type": "stream",
     "text": [
      "\n"
     ]
    }
   ],
   "source": [
    "df_list = [group[1] for group in df.groupby(df['sample_no'])]\n",
    "output_list = []\n",
    "\n",
    "if __name__ == '__main__':\n",
    "    with Pool(processes=12) as pool:\n",
    "        for i, x in enumerate(tqdm(pool.imap_unordered(func.transfer_google, df_list), total=len(df_list)), 1):\n",
    "            output_list.append(x)\n",
    "            \n",
    "df = pd.concat(output_list, axis=0)"
   ]
  },
  {
   "cell_type": "code",
   "execution_count": 14,
   "metadata": {},
   "outputs": [
    {
     "data": {
      "application/vnd.jupyter.widget-view+json": {
       "model_id": "4d6569547cb74c87ba22658555bd3c97",
       "version_major": 2,
       "version_minor": 0
      },
      "text/plain": [
       "HBox(children=(IntProgress(value=0, max=150000), HTML(value='')))"
      ]
     },
     "metadata": {},
     "output_type": "display_data"
    },
    {
     "name": "stdout",
     "output_type": "stream",
     "text": [
      "\n"
     ]
    }
   ],
   "source": [
    "df_list = [group[1] for group in df.groupby(df['sample_no'])]\n",
    "output_list = []\n",
    "\n",
    "if __name__ == '__main__':\n",
    "    with Pool(processes=12) as pool:\n",
    "        for i, x in enumerate(tqdm(pool.imap_unordered(func.transfer_google_feature, df_list), total=len(df_list)), 1):\n",
    "            output_list.append(x)\n",
    "            \n",
    "df = pd.concat(output_list, axis=0)"
   ]
  },
  {
   "cell_type": "code",
   "execution_count": 15,
   "metadata": {},
   "outputs": [],
   "source": [
    "df['GENDER'] = df['GENDER'].apply(lambda x: 1 if x == 'M' else 0)\n",
    "df['LABEL_CHURN'] = df['LABEL_CHURN'].apply(lambda x: 1 if x == 'CHURN' else 0)"
   ]
  },
  {
   "cell_type": "code",
   "execution_count": 16,
   "metadata": {},
   "outputs": [],
   "source": [
    "test = pd.read_csv(r'D:\\Customer_Value\\data\\train_google\\test_feature.csv')\n",
    "test_churn = test[test.LABEL_CHURN == 1]"
   ]
  },
  {
   "cell_type": "code",
   "execution_count": 17,
   "metadata": {},
   "outputs": [],
   "source": [
    "test = pd.concat([df, test_churn], axis=0)"
   ]
  },
  {
   "cell_type": "markdown",
   "metadata": {},
   "source": [
    "Save Data"
   ]
  },
  {
   "cell_type": "code",
   "execution_count": 19,
   "metadata": {},
   "outputs": [],
   "source": [
    "test.to_csv(r'D:\\Customer_Value\\data\\evaluate\\google\\test_eval_feature.csv', index=False)"
   ]
  },
  {
   "cell_type": "code",
   "execution_count": 1,
   "metadata": {},
   "outputs": [
    {
     "ename": "NameError",
     "evalue": "name 'test' is not defined",
     "output_type": "error",
     "traceback": [
      "\u001b[1;31m---------------------------------------------------------------------------\u001b[0m",
      "\u001b[1;31mNameError\u001b[0m                                 Traceback (most recent call last)",
      "\u001b[1;32m<ipython-input-1-4e1243bd22c6>\u001b[0m in \u001b[0;36m<module>\u001b[1;34m\u001b[0m\n\u001b[1;32m----> 1\u001b[1;33m \u001b[0mtest\u001b[0m\u001b[1;33m\u001b[0m\u001b[1;33m\u001b[0m\u001b[0m\n\u001b[0m",
      "\u001b[1;31mNameError\u001b[0m: name 'test' is not defined"
     ]
    }
   ],
   "source": [
    "test"
   ]
  },
  {
   "cell_type": "code",
   "execution_count": null,
   "metadata": {},
   "outputs": [],
   "source": []
  }
 ],
 "metadata": {
  "kernelspec": {
   "display_name": "Python (tf-gpu)",
   "language": "python",
   "name": "tf-gpu"
  },
  "language_info": {
   "codemirror_mode": {
    "name": "ipython",
    "version": 3
   },
   "file_extension": ".py",
   "mimetype": "text/x-python",
   "name": "python",
   "nbconvert_exporter": "python",
   "pygments_lexer": "ipython3",
   "version": "3.6.9"
  }
 },
 "nbformat": 4,
 "nbformat_minor": 2
}
