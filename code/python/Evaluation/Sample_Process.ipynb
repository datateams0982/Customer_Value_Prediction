{
 "cells": [
  {
   "cell_type": "code",
   "execution_count": 2,
   "metadata": {},
   "outputs": [],
   "source": [
    "import pandas as pd\n",
    "import numpy as np\n",
    "from multiprocessing import Pool\n",
    "from functools import partial\n",
    "import Evaluation_func as func\n",
    "from tqdm import tqdm_notebook as tqdm\n",
    "from datetime import date, timedelta"
   ]
  },
  {
   "cell_type": "code",
   "execution_count": 2,
   "metadata": {},
   "outputs": [],
   "source": [
    "df = pd.read_csv(r'D:\\Customer_Value\\data\\evaluate\\st_sample_test_large.csv')"
   ]
  },
  {
   "cell_type": "markdown",
   "metadata": {},
   "source": [
    "Collect History Data"
   ]
  },
  {
   "cell_type": "code",
   "execution_count": 3,
   "metadata": {},
   "outputs": [
    {
     "data": {
      "application/vnd.jupyter.widget-view+json": {
       "model_id": "7254da78a94c4dd5aaaad003cb122e9b",
       "version_major": 2,
       "version_minor": 0
      },
      "text/plain": [
       "HBox(children=(IntProgress(value=0, max=43777), HTML(value='')))"
      ]
     },
     "metadata": {},
     "output_type": "display_data"
    },
    {
     "name": "stdout",
     "output_type": "stream",
     "text": [
      "\n"
     ]
    }
   ],
   "source": [
    "df_list = [group[1] for group in df.groupby(df['S_IDNO'])]\n",
    "output_list = []\n",
    "\n",
    "if __name__ == '__main__':\n",
    "    with Pool(processes=12) as pool:\n",
    "        for i, x in enumerate(tqdm(pool.imap_unordered(partial(func.pick_history_data, time_period=120), df_list), total=len(df_list)), 1):\n",
    "            output_list.append(x)\n",
    "            \n",
    "df_history = pd.concat(output_list, axis=0)"
   ]
  },
  {
   "cell_type": "code",
   "execution_count": 4,
   "metadata": {},
   "outputs": [],
   "source": [
    "del df"
   ]
  },
  {
   "cell_type": "markdown",
   "metadata": {},
   "source": [
    "Combine with asset data"
   ]
  },
  {
   "cell_type": "code",
   "execution_count": 5,
   "metadata": {},
   "outputs": [
    {
     "data": {
      "application/vnd.jupyter.widget-view+json": {
       "model_id": "74e2a342506443d6b1b9869476ffcb1f",
       "version_major": 2,
       "version_minor": 0
      },
      "text/plain": [
       "HBox(children=(IntProgress(value=0, max=5), HTML(value='')))"
      ]
     },
     "metadata": {},
     "output_type": "display_data"
    },
    {
     "name": "stdout",
     "output_type": "stream",
     "text": [
      "\n"
     ]
    }
   ],
   "source": [
    "df_list = [group[1] for group in df_history.groupby(df_history['YEAR'])]\n",
    "output_list = []\n",
    "\n",
    "for i, d in enumerate(tqdm(df_list, total=len(df_list)), 1):\n",
    "    year = d['YEAR'].iloc[0]\n",
    "    asset = pd.read_csv(f'D:\\\\Customer_Value\\\\data\\\\asset\\\\st_asset{int(year) - 2012}_processed.csv', converters={'S_IDNO': str, 'MTH_DATE': str})\n",
    "    d = pd.merge(d, asset, on=['S_IDNO', 'MTH_DATE'], how='left')\n",
    "    output_list.append(d)\n",
    "    \n",
    "df_history = pd.concat(output_list, axis=0)"
   ]
  },
  {
   "cell_type": "markdown",
   "metadata": {},
   "source": [
    "Asset Encoding"
   ]
  },
  {
   "cell_type": "code",
   "execution_count": 4,
   "metadata": {},
   "outputs": [],
   "source": [
    "reference_dict = {'AMT_B': {1: 0,\n",
    " 20000: 1,\n",
    " 35000: 2,\n",
    " 50000: 3,\n",
    " 70000: 4,\n",
    " 100000: 5,\n",
    " 140000: 6,\n",
    " 200000: 7,\n",
    " 310000: 8,\n",
    " 600000: 9},\n",
    "'AMT_S': {1: 0,\n",
    " 22000: 1,\n",
    " 38000: 2,\n",
    " 55000: 3,\n",
    " 80000: 4,\n",
    " 110000: 5,\n",
    " 150000: 6,\n",
    " 230000: 7,\n",
    " 360000: 8,\n",
    " 700000: 9},\n",
    "'ST_ASSET': {1: 0,\n",
    " 12000: 1,\n",
    " 50000: 2,\n",
    " 100000: 3,\n",
    " 200000: 4,\n",
    " 310000: 5,\n",
    " 500000: 6,\n",
    " 800000: 7,\n",
    " 1350000: 8,\n",
    " 2800000: 9},\n",
    "'MP_ASSET': {1: 0,\n",
    " 35000: 1,\n",
    " 70000: 2,\n",
    " 110000: 3,\n",
    " 170000: 4,\n",
    " 240000: 5,\n",
    " 350000: 6,\n",
    " 550000: 7,\n",
    " 950000: 8,\n",
    " 2150000: 9},\n",
    "'SS_ASSET': {1: 0,\n",
    " 40000: 1,\n",
    " 75000: 2,\n",
    " 110000: 3,\n",
    " 170000: 4,\n",
    " 240000: 5,\n",
    " 350000: 6,\n",
    " 500000: 7,\n",
    " 800000: 8,\n",
    " 1650000: 9}}"
   ]
  },
  {
   "cell_type": "code",
   "execution_count": 5,
   "metadata": {},
   "outputs": [
    {
     "data": {
      "application/vnd.jupyter.widget-view+json": {
       "model_id": "db99a68c7118421c8c69d9e9f152459e",
       "version_major": 2,
       "version_minor": 0
      },
      "text/plain": [
       "HBox(children=(IntProgress(value=0, max=150000), HTML(value='')))"
      ]
     },
     "metadata": {},
     "output_type": "display_data"
    },
    {
     "name": "stdout",
     "output_type": "stream",
     "text": [
      "\n"
     ]
    }
   ],
   "source": [
    "df_list = [group[1] for group in df_history.groupby(df_history['sample_no'])]\n",
    "output_list = []\n",
    "\n",
    "if __name__ == '__main__':\n",
    "    with Pool(processes=12) as pool:\n",
    "        for i, x in enumerate(tqdm(pool.imap_unordered(partial(func.label_asset, reference_dict=reference_dict), df_list), total=len(df_list)), 1):\n",
    "            output_list.append(x)\n",
    "            \n",
    "df = pd.concat(output_list, axis=0)"
   ]
  },
  {
   "cell_type": "markdown",
   "metadata": {},
   "source": [
    "Save Data"
   ]
  },
  {
   "cell_type": "code",
   "execution_count": 6,
   "metadata": {},
   "outputs": [],
   "source": [
    "df.to_csv(r'D:\\Customer_Value\\data\\evaluate\\st_sample_all_large.csv', index=False)"
   ]
  },
  {
   "cell_type": "code",
   "execution_count": null,
   "metadata": {},
   "outputs": [],
   "source": []
  }
 ],
 "metadata": {
  "kernelspec": {
   "display_name": "Python (tf-gpu)",
   "language": "python",
   "name": "tf-gpu"
  },
  "language_info": {
   "codemirror_mode": {
    "name": "ipython",
    "version": 3
   },
   "file_extension": ".py",
   "mimetype": "text/x-python",
   "name": "python",
   "nbconvert_exporter": "python",
   "pygments_lexer": "ipython3",
   "version": "3.6.9"
  }
 },
 "nbformat": 4,
 "nbformat_minor": 2
}
