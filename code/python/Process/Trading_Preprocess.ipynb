{
 "cells": [
  {
   "cell_type": "code",
   "execution_count": 1,
   "metadata": {},
   "outputs": [],
   "source": [
    "import pandas as pd\n",
    "import numpy as np\n",
    "from multiprocessing import Pool\n",
    "from functools import partial\n",
    "import Preprocess_func as func\n",
    "from tqdm import tqdm_notebook as tqdm\n",
    "from datetime import date, timedelta"
   ]
  },
  {
   "cell_type": "code",
   "execution_count": null,
   "metadata": {},
   "outputs": [],
   "source": [
    "df = pd.read_csv(r'D:\\Customer_Value\\data\\st_trading.csv')"
   ]
  },
  {
   "cell_type": "code",
   "execution_count": 6,
   "metadata": {},
   "outputs": [
    {
     "data": {
      "text/html": [
       "<div>\n",
       "<style scoped>\n",
       "    .dataframe tbody tr th:only-of-type {\n",
       "        vertical-align: middle;\n",
       "    }\n",
       "\n",
       "    .dataframe tbody tr th {\n",
       "        vertical-align: top;\n",
       "    }\n",
       "\n",
       "    .dataframe thead th {\n",
       "        text-align: right;\n",
       "    }\n",
       "</style>\n",
       "<table border=\"1\" class=\"dataframe\">\n",
       "  <thead>\n",
       "    <tr style=\"text-align: right;\">\n",
       "      <th></th>\n",
       "      <th>MTH_DATE</th>\n",
       "    </tr>\n",
       "  </thead>\n",
       "  <tbody>\n",
       "    <tr>\n",
       "      <td>0</td>\n",
       "      <td>2014-08-01</td>\n",
       "    </tr>\n",
       "    <tr>\n",
       "      <td>1</td>\n",
       "      <td>2017-10-23</td>\n",
       "    </tr>\n",
       "    <tr>\n",
       "      <td>2</td>\n",
       "      <td>2016-12-14</td>\n",
       "    </tr>\n",
       "    <tr>\n",
       "      <td>3</td>\n",
       "      <td>2016-12-15</td>\n",
       "    </tr>\n",
       "    <tr>\n",
       "      <td>4</td>\n",
       "      <td>2014-02-26</td>\n",
       "    </tr>\n",
       "    <tr>\n",
       "      <td>...</td>\n",
       "      <td>...</td>\n",
       "    </tr>\n",
       "    <tr>\n",
       "      <td>1247</td>\n",
       "      <td>2014-01-16</td>\n",
       "    </tr>\n",
       "    <tr>\n",
       "      <td>1248</td>\n",
       "      <td>2014-01-17</td>\n",
       "    </tr>\n",
       "    <tr>\n",
       "      <td>1249</td>\n",
       "      <td>2014-01-20</td>\n",
       "    </tr>\n",
       "    <tr>\n",
       "      <td>1250</td>\n",
       "      <td>2014-01-21</td>\n",
       "    </tr>\n",
       "    <tr>\n",
       "      <td>1251</td>\n",
       "      <td>2014-01-02</td>\n",
       "    </tr>\n",
       "  </tbody>\n",
       "</table>\n",
       "<p>1252 rows × 1 columns</p>\n",
       "</div>"
      ],
      "text/plain": [
       "        MTH_DATE\n",
       "0     2014-08-01\n",
       "1     2017-10-23\n",
       "2     2016-12-14\n",
       "3     2016-12-15\n",
       "4     2014-02-26\n",
       "...          ...\n",
       "1247  2014-01-16\n",
       "1248  2014-01-17\n",
       "1249  2014-01-20\n",
       "1250  2014-01-21\n",
       "1251  2014-01-02\n",
       "\n",
       "[1252 rows x 1 columns]"
      ]
     },
     "execution_count": 6,
     "metadata": {},
     "output_type": "execute_result"
    }
   ],
   "source": [
    "timedf = pd.DataFrame(df['MTH_DATE'].unique(), columns=['MTH_DATE'])\n",
    "timedf"
   ]
  },
  {
   "cell_type": "code",
   "execution_count": 2,
   "metadata": {},
   "outputs": [],
   "source": [
    "reference_dict = {'AMT_B': {range(0, 1): 0,\n",
    "range(1, 20000): 1,\n",
    " range(20000, 35000): 2,\n",
    " range(35000, 50000): 3,\n",
    " range(50000, 70000): 4,\n",
    " range(70000, 100000): 5,\n",
    " range(100000, 140000): 6,\n",
    " range(140000, 200000): 7,\n",
    " range(200000, 310000): 8,\n",
    " range(310000, 600000): 9},\n",
    "'AMT_S': {range(0, 1): 0,\n",
    "range(1, 22000): 1,\n",
    " range(22000, 38000): 2,\n",
    " range(38000, 55000): 3,\n",
    " range(55000, 80000): 4,\n",
    " range(80000, 110000): 5,\n",
    " range(110000, 150000): 6,\n",
    " range(150000, 230000): 7,\n",
    " range(230000, 360000): 8,\n",
    " range(360000, 700000): 9},\n",
    "'ST_ASSET': {range(0, 1): 0,\n",
    "range(1, 12000): 1,\n",
    " range(12000, 50000): 2,\n",
    " range(50000, 100000): 3,\n",
    " range(100000, 200000): 4,\n",
    " range(200000, 310000): 5,\n",
    " range(310000, 500000): 6,\n",
    " range(500000, 800000): 7,\n",
    " range(800000, 1350000): 8,\n",
    " range(1350000, 2800000): 9},\n",
    "'MP_ASSET': {range(0, 1): 0,\n",
    "range(1, 35000): 1,\n",
    " range(35000, 70000): 2,\n",
    " range(70000, 110000): 3,\n",
    " range(110000, 170000): 4,\n",
    " range(170000, 240000): 5,\n",
    " range(240000, 350000): 6,\n",
    " range(350000, 550000): 7,\n",
    " range(550000, 950000): 8,\n",
    " range(950000, 2150000): 9},\n",
    "'SS_ASSET': {range(0, 1): 0,\n",
    "range(1, 40000): 1,\n",
    " range(40000, 75000): 2,\n",
    " range(75000, 110000): 3,\n",
    " range(110000, 170000): 4,\n",
    " range(170000, 240000): 5,\n",
    " range(240000, 350000): 6,\n",
    " range(350000, 500000): 7,\n",
    " range(500000, 800000): 8,\n",
    " range(800000, 1650000): 9}}\n"
   ]
  },
  {
   "cell_type": "code",
   "execution_count": 5,
   "metadata": {},
   "outputs": [
    {
     "data": {
      "application/vnd.jupyter.widget-view+json": {
       "model_id": "c4b4c8c2b4cb44df8f6ef7646882840b",
       "version_major": 2,
       "version_minor": 0
      },
      "text/plain": [
       "HBox(children=(IntProgress(value=0, max=257881), HTML(value='')))"
      ]
     },
     "metadata": {},
     "output_type": "display_data"
    },
    {
     "name": "stdout",
     "output_type": "stream",
     "text": [
      "\n"
     ]
    }
   ],
   "source": [
    "df_list = [group[1] for group in df.groupby(df['S_IDNO'])]\n",
    "output_list = []\n",
    "\n",
    "if __name__ == '__main__':\n",
    "    with Pool(processes=12) as pool:\n",
    "        for i, x in enumerate(tqdm(pool.imap_unordered(partial(func.trading_days, time_period=120, timedf=timedf, reference_dict=reference_dict), df_list), total=len(df_list)), 1):\n",
    "            output_list.append(x)\n",
    "                "
   ]
  },
  {
   "cell_type": "code",
   "execution_count": 8,
   "metadata": {},
   "outputs": [],
   "source": [
    "output_list1 = output_list[:120000]\n",
    "output_list2 = output_list[120000:]"
   ]
  },
  {
   "cell_type": "code",
   "execution_count": 10,
   "metadata": {},
   "outputs": [],
   "source": [
    "df = pd.concat(output_list1, axis=0)\n",
    "df.to_csv(r'D:\\Customer_Value\\data\\trading\\st_trading_processed.csv', index=False)\n"
   ]
  },
  {
   "cell_type": "code",
   "execution_count": 6,
   "metadata": {},
   "outputs": [],
   "source": [
    "df.to_csv(r'D:\\Customer_Value\\data\\st_trading_processed.csv', index=False)"
   ]
  },
  {
   "cell_type": "code",
   "execution_count": 2,
   "metadata": {},
   "outputs": [],
   "source": [
    "df = pd.read_csv(r'D:\\Customer_Value\\data\\trading\\st_trading_processed.csv')"
   ]
  }
 ],
 "metadata": {
  "kernelspec": {
   "display_name": "Python (tf-gpu)",
   "language": "python",
   "name": "tf-gpu"
  },
  "language_info": {
   "codemirror_mode": {
    "name": "ipython",
    "version": 3
   },
   "file_extension": ".py",
   "mimetype": "text/x-python",
   "name": "python",
   "nbconvert_exporter": "python",
   "pygments_lexer": "ipython3",
   "version": "3.6.9"
  }
 },
 "nbformat": 4,
 "nbformat_minor": 2
}
